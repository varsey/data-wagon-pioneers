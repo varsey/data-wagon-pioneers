{
 "cells": [
  {
   "cell_type": "markdown",
   "metadata": {
    "id": "_S6AoEWhIP2t"
   },
   "source": [
    "# Образец результата\n",
    "\n",
    "прогноз на апрель - август 2023, сделанный на данных до марта включительно"
   ]
  },
  {
   "cell_type": "code",
   "execution_count": 35,
   "metadata": {
    "ExecuteTime": {
     "end_time": "2023-11-10T19:49:05.558793Z",
     "start_time": "2023-11-10T19:49:04.816135Z"
    },
    "execution": {
     "iopub.execute_input": "2023-11-12T00:33:53.187975Z",
     "iopub.status.busy": "2023-11-12T00:33:53.187199Z",
     "iopub.status.idle": "2023-11-12T00:33:53.205540Z",
     "shell.execute_reply": "2023-11-12T00:33:53.204412Z",
     "shell.execute_reply.started": "2023-11-12T00:33:53.187900Z"
    },
    "id": "h3ewiVs7IP22"
   },
   "outputs": [],
   "source": [
    "from  pathlib import Path\n",
    "\n",
    "from datetime import datetime\n",
    "import pandas as pd\n",
    "\n",
    "from dateutil.relativedelta import relativedelta"
   ]
  },
  {
   "cell_type": "code",
   "execution_count": 36,
   "metadata": {
    "ExecuteTime": {
     "end_time": "2023-11-10T19:49:05.564234Z",
     "start_time": "2023-11-10T19:49:05.560952Z"
    },
    "execution": {
     "iopub.execute_input": "2023-11-12T00:33:53.701064Z",
     "iopub.status.busy": "2023-11-12T00:33:53.700687Z",
     "iopub.status.idle": "2023-11-12T00:33:53.711799Z",
     "shell.execute_reply": "2023-11-12T00:33:53.710879Z",
     "shell.execute_reply.started": "2023-11-12T00:33:53.701039Z"
    }
   },
   "outputs": [],
   "source": [
    "data_folder = Path().cwd().parent / 'data'"
   ]
  },
  {
   "cell_type": "code",
   "execution_count": 28,
   "metadata": {
    "ExecuteTime": {
     "end_time": "2023-11-10T19:51:08.170878Z",
     "start_time": "2023-11-10T19:51:04.742574Z"
    },
    "execution": {
     "iopub.execute_input": "2023-11-11T19:48:06.792412Z",
     "iopub.status.busy": "2023-11-11T19:48:06.791972Z",
     "iopub.status.idle": "2023-11-11T19:48:10.586519Z",
     "shell.execute_reply": "2023-11-11T19:48:10.585378Z",
     "shell.execute_reply.started": "2023-11-11T19:48:06.792384Z"
    }
   },
   "outputs": [],
   "source": [
    "# Факт на задание\n",
    "fact = pd.read_csv(\n",
    "    data_folder / \"fact_train_test.csv\", \n",
    "    sep=\";\", \n",
    "    decimal=\",\", \n",
    "    encoding=\"windows-1251\"\n",
    ")\n",
    "fact[\"period\"] = fact[\"period\"].astype(\"datetime64[ns]\")"
   ]
  },
  {
   "cell_type": "code",
   "execution_count": 29,
   "metadata": {
    "ExecuteTime": {
     "end_time": "2023-11-10T19:51:10.537234Z",
     "start_time": "2023-11-10T19:51:08.802412Z"
    },
    "execution": {
     "iopub.execute_input": "2023-11-11T19:48:10.589609Z",
     "iopub.status.busy": "2023-11-11T19:48:10.588693Z",
     "iopub.status.idle": "2023-11-11T19:48:12.457225Z",
     "shell.execute_reply": "2023-11-11T19:48:12.456350Z",
     "shell.execute_reply.started": "2023-11-11T19:48:10.589578Z"
    }
   },
   "outputs": [],
   "source": [
    "# Делим на train/test\n",
    "train = fact[fact['period'] <= fact['period'].max() - relativedelta(months=5)]\n",
    "\n",
    "test = fact[fact['period'] > fact['period'].max() - relativedelta(months=5)]\n",
    "\n",
    "# Сохраняем для валидации\n",
    "test.to_csv(\n",
    "    data_folder / 'base' / \"fact_validation.csv\",\n",
    "    index=False, sep=\";\", \n",
    "    decimal=\",\", \n",
    "    encoding=\"windows-1251\"\n",
    ")"
   ]
  },
  {
   "cell_type": "code",
   "execution_count": 30,
   "metadata": {
    "execution": {
     "iopub.execute_input": "2023-11-11T19:48:12.459037Z",
     "iopub.status.busy": "2023-11-11T19:48:12.458625Z",
     "iopub.status.idle": "2023-11-11T19:48:12.463280Z",
     "shell.execute_reply": "2023-11-11T19:48:12.462287Z",
     "shell.execute_reply.started": "2023-11-11T19:48:12.459016Z"
    }
   },
   "outputs": [],
   "source": [
    "# train = train[train.client_sap_id >= 0]"
   ]
  },
  {
   "cell_type": "code",
   "execution_count": 31,
   "metadata": {
    "ExecuteTime": {
     "end_time": "2023-11-10T19:51:12.967184Z",
     "start_time": "2023-11-10T19:51:11.302330Z"
    },
    "execution": {
     "iopub.execute_input": "2023-11-11T19:48:12.467253Z",
     "iopub.status.busy": "2023-11-11T19:48:12.466782Z",
     "iopub.status.idle": "2023-11-11T19:48:14.192117Z",
     "shell.execute_reply": "2023-11-11T19:48:14.191027Z",
     "shell.execute_reply.started": "2023-11-11T19:48:12.467215Z"
    },
    "id": "wlaew5PUIP29",
    "outputId": "21ed5e76-d7dd-4e50-efa7-42367d527441"
   },
   "outputs": [
    {
     "name": "stdout",
     "output_type": "stream",
     "text": [
      "2022-11-01 00:00:00\n",
      "2022-12-01 00:00:00\n",
      "2023-01-01 00:00:00\n",
      "2023-02-01 00:00:00\n",
      "2023-03-01 00:00:00\n",
      "Baseline forecast saved\n"
     ]
    }
   ],
   "source": [
    "# Пример прогноза - наивный, копия последнего факта\n",
    "result = []\n",
    "last_known_fact_month = train[\"period\"].max()\n",
    "\n",
    "test_periods = pd.date_range(\n",
    "    start=last_known_fact_month, \n",
    "    periods=6,\n",
    "    freq='MS', \n",
    "    inclusive='right'\n",
    ")\n",
    "\n",
    "for period in test_periods:\n",
    "    print(period)\n",
    "    month_forecast = train[train[\"period\"] == last_known_fact_month].reset_index(drop=True)\n",
    "    month_forecast[\"period\"] = period\n",
    "    result.append(month_forecast)\n",
    "\n",
    "result = pd.concat(result).reset_index(drop=True)\n",
    "\n",
    "result.rename(columns={\n",
    "        \"real_wagon_count\": \"forecast_wagon_count\", \n",
    "        \"real_weight\": \"forecast_weight\"\n",
    "    }, \n",
    "    inplace=True\n",
    ")\n",
    "result.to_csv(\n",
    "    data_folder / 'base' / \"forecast_example.csv\", \n",
    "    index=False, sep=\";\", \n",
    "    decimal=\",\", \n",
    "    encoding=\"windows-1251\"\n",
    ")\n",
    "print('Baseline forecast saved')"
   ]
  },
  {
   "cell_type": "markdown",
   "metadata": {
    "id": "x3cZXIIGIP2-"
   },
   "source": [
    "# Оценка результата"
   ]
  },
  {
   "cell_type": "code",
   "execution_count": 32,
   "metadata": {
    "ExecuteTime": {
     "end_time": "2023-11-10T19:51:12.973654Z",
     "start_time": "2023-11-10T19:51:12.970585Z"
    },
    "execution": {
     "iopub.execute_input": "2023-11-11T19:48:14.193924Z",
     "iopub.status.busy": "2023-11-11T19:48:14.193582Z",
     "iopub.status.idle": "2023-11-11T19:48:14.198501Z",
     "shell.execute_reply": "2023-11-11T19:48:14.197815Z",
     "shell.execute_reply.started": "2023-11-11T19:48:14.193902Z"
    },
    "id": "9wE-LJlwIP2_"
   },
   "outputs": [],
   "source": [
    "import pandas as pd\n",
    "import numpy as np"
   ]
  },
  {
   "cell_type": "code",
   "execution_count": 37,
   "metadata": {
    "ExecuteTime": {
     "end_time": "2023-11-10T19:51:13.367448Z",
     "start_time": "2023-11-10T19:51:13.347439Z"
    },
    "execution": {
     "iopub.execute_input": "2023-11-12T00:33:57.012819Z",
     "iopub.status.busy": "2023-11-12T00:33:57.012335Z",
     "iopub.status.idle": "2023-11-12T00:33:57.056231Z",
     "shell.execute_reply": "2023-11-12T00:33:57.040073Z",
     "shell.execute_reply.started": "2023-11-12T00:33:57.012786Z"
    },
    "id": "kn39TMhsIP2_"
   },
   "outputs": [],
   "source": [
    "def add_master_data_mappings(df: pd.DataFrame) -> pd.DataFrame:\n",
    "    # = Пути к справочникам - откорректировать если в реальной системе будут лежать по другому адресу =\n",
    "    client_mapping_file = data_folder / \"client_mapping.csv\"\n",
    "    freight_mapping_file = data_folder / \"freight_mapping.csv\"\n",
    "    station_mapping_file = data_folder / \"station_mapping.csv\"\n",
    "\n",
    "    # Клиент - холдинг\n",
    "    client_mapping = pd.read_csv(\n",
    "        client_mapping_file,\n",
    "        sep=\";\",\n",
    "        decimal=\",\",\n",
    "        encoding=\"windows-1251\",\n",
    "    )\n",
    "    df = pd.merge(df, client_mapping, how=\"left\", on=\"client_sap_id\")\n",
    "\n",
    "    # Груз\n",
    "    freight_mapping = pd.read_csv(\n",
    "        freight_mapping_file, sep=\";\", decimal=\",\", encoding=\"windows-1251\"\n",
    "    )\n",
    "    df = pd.merge(df, freight_mapping, how=\"left\", on=\"freight_id\")\n",
    "\n",
    "    # Станции\n",
    "    station_mapping = pd.read_csv(\n",
    "        station_mapping_file,\n",
    "        sep=\";\",\n",
    "        decimal=\",\",\n",
    "        encoding=\"windows-1251\",\n",
    "    )\n",
    "    df = pd.merge(\n",
    "        df,\n",
    "        station_mapping.add_prefix(\"sender_\"),\n",
    "        how=\"left\",\n",
    "        on=\"sender_station_id\",\n",
    "    )\n",
    "    df = pd.merge(\n",
    "        df,\n",
    "        station_mapping.add_prefix(\"recipient_\"),\n",
    "        how=\"left\",\n",
    "        on=\"recipient_station_id\",\n",
    "    )\n",
    "\n",
    "    return df\n",
    "\n",
    "\n",
    "def evaluate(fact: pd.DataFrame, forecast: pd.DataFrame, public: bool = True) -> float:\n",
    "    # = Параметры для расчета метрики =\n",
    "    accuracy_granularity = [\n",
    "        \"period\",\n",
    "        \"rps\",\n",
    "        \"holding_name\",\n",
    "        \"sender_department_name\",\n",
    "        \"recipient_department_name\",\n",
    "    ]\n",
    "    fact_value, forecast_value = \"real_wagon_count\", \"forecast_wagon_count\"\n",
    "    if public:\n",
    "        metric_weight = np.array([0.0, 1.0, 0.0, 0.0, 0.0])\n",
    "    else:\n",
    "        metric_weight = np.array([0.1, 0.6, 0.1, 0.1, 0.1])\n",
    "\n",
    "    # = Собственно расчет метрик =\n",
    "    # 1. Добавляем сущности верхних уровней гранулярности по справочникам\n",
    "    fact = add_master_data_mappings(fact)\n",
    "    forecast = add_master_data_mappings(forecast)\n",
    "\n",
    "    # 2. Расчет KPI\n",
    "    compare_data = pd.merge(\n",
    "        fact.groupby(accuracy_granularity, as_index=False)[fact_value].sum(),\n",
    "        forecast.groupby(accuracy_granularity, as_index=False)[forecast_value].sum(),\n",
    "        how=\"outer\",\n",
    "        on=accuracy_granularity,\n",
    "    ).fillna(0)\n",
    "    # Против самых хитрых - нецелочисленный прогноз вагоноотправок не принимаем\n",
    "    compare_data[fact_value] = np.around(compare_data[fact_value]).astype(int)\n",
    "    compare_data[forecast_value] = np.around(compare_data[forecast_value]).astype(int)\n",
    "\n",
    "    # 3. Рассчитаем метрики для каждого месяца в выборке\n",
    "    compare_data[\"ABS_ERR\"] = abs(\n",
    "        compare_data[forecast_value] - compare_data[fact_value]\n",
    "    )\n",
    "    compare_data[\"MAX\"] = abs(compare_data[[forecast_value, fact_value]].max(axis=1))\n",
    "    summary = compare_data.groupby(\"period\")[\n",
    "        [forecast_value, fact_value, \"ABS_ERR\", \"MAX\"]\n",
    "    ].sum()\n",
    "    summary[\"Forecast Accuracy\"] = 1 - summary[\"ABS_ERR\"] / summary[\"MAX\"]\n",
    "\n",
    "    # 4. Взвесим метрики отдельных месяцев для получения одной цифры score\n",
    "    score = (\n",
    "        summary[\"Forecast Accuracy\"].sort_index(ascending=True) * metric_weight\n",
    "    ).sum()\n",
    "\n",
    "    return score\n",
    "\n",
    "\n",
    "def calc_score_public(fact: pd.DataFrame, forecast: pd.DataFrame) -> float:\n",
    "    return evaluate(fact, forecast, public=True)\n",
    "\n",
    "\n",
    "def calc_score_private(fact: pd.DataFrame, forecast: pd.DataFrame) -> float:\n",
    "    return evaluate(fact, forecast, public=False)"
   ]
  },
  {
   "cell_type": "code",
   "execution_count": 38,
   "metadata": {
    "ExecuteTime": {
     "end_time": "2023-11-10T19:51:19.528655Z",
     "start_time": "2023-11-10T19:51:17.792733Z"
    },
    "execution": {
     "iopub.execute_input": "2023-11-12T00:33:57.693862Z",
     "iopub.status.busy": "2023-11-12T00:33:57.693424Z",
     "iopub.status.idle": "2023-11-12T00:33:59.951242Z",
     "shell.execute_reply": "2023-11-12T00:33:59.950471Z",
     "shell.execute_reply.started": "2023-11-12T00:33:57.693830Z"
    },
    "id": "LB9zW496IP3A",
    "outputId": "d9ee29c0-6a39-437e-9071-36aae63df550"
   },
   "outputs": [
    {
     "name": "stdout",
     "output_type": "stream",
     "text": [
      "Public score: 0.6597407565666576\n",
      "Private score: 0.658543122563124\n"
     ]
    }
   ],
   "source": [
    "# = Примеры файлов для проверки =\n",
    "validation_file = data_folder / 'base' / \"fact_validation.csv\"\n",
    "forecast_file = data_folder / 'base' / \"forecast_example.csv\"\n",
    "\n",
    "# Валидационный датасет\n",
    "fact = pd.read_csv(validation_file, sep=\";\", decimal=\",\", encoding=\"windows-1251\")\n",
    "# print(\"Валидационный датасет:\", fact.shape)\n",
    "# Прогноз\n",
    "forecast = pd.read_csv(forecast_file, sep=\";\", decimal=\",\", encoding=\"windows-1251\")\n",
    "# print(\"Прогноз:\", forecast.shape)\n",
    "\n",
    "# Скорим\n",
    "score_public = calc_score_public(fact, forecast)\n",
    "score_private = calc_score_private(fact, forecast)\n",
    "print(f\"Public score: {score_public}\")\n",
    "print(f\"Private score: {score_private}\")"
   ]
  },
  {
   "cell_type": "code",
   "execution_count": null,
   "metadata": {},
   "outputs": [],
   "source": []
  }
 ],
 "metadata": {
  "colab": {
   "provenance": []
  },
  "kernelspec": {
   "display_name": "Python 3 (ipykernel)",
   "language": "python",
   "name": "python3"
  },
  "language_info": {
   "codemirror_mode": {
    "name": "ipython",
    "version": 3
   },
   "file_extension": ".py",
   "mimetype": "text/x-python",
   "name": "python",
   "nbconvert_exporter": "python",
   "pygments_lexer": "ipython3",
   "version": "3.9.2"
  },
  "toc": {
   "base_numbering": 1,
   "nav_menu": {},
   "number_sections": true,
   "sideBar": true,
   "skip_h1_title": false,
   "title_cell": "Table of Contents",
   "title_sidebar": "Contents",
   "toc_cell": false,
   "toc_position": {},
   "toc_section_display": true,
   "toc_window_display": false
  }
 },
 "nbformat": 4,
 "nbformat_minor": 4
}
