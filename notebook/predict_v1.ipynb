{
 "cells": [
  {
   "cell_type": "markdown",
   "id": "ef9b637e",
   "metadata": {},
   "source": [
    "# Libs & Settings"
   ]
  },
  {
   "cell_type": "code",
   "execution_count": 1,
   "id": "d6271076",
   "metadata": {
    "ExecuteTime": {
     "end_time": "2023-11-11T17:02:09.886093Z",
     "start_time": "2023-11-11T17:02:08.378196Z"
    },
    "execution": {
     "iopub.execute_input": "2023-11-12T05:51:39.279073Z",
     "iopub.status.busy": "2023-11-12T05:51:39.278639Z",
     "iopub.status.idle": "2023-11-12T05:51:41.171972Z",
     "shell.execute_reply": "2023-11-12T05:51:41.171143Z",
     "shell.execute_reply.started": "2023-11-12T05:51:39.279034Z"
    }
   },
   "outputs": [],
   "source": [
    "import sys\n",
    "import warnings\n",
    "import numpy as np\n",
    "import polars as pl\n",
    "import pandas as pd\n",
    "import xgboost as xgb\n",
    "from numba import njit\n",
    "import lightgbm as lgb\n",
    "from pathlib import Path\n",
    "from mlforecast import MLForecast\n",
    "from window_ops.rolling import rolling_mean\n",
    "from sklearn.metrics import mean_squared_error\n",
    "from window_ops.expanding import expanding_mean\n",
    "from dateutil.relativedelta import relativedelta\n",
    "# from hierarchicalforecast.units import aggregate\n",
    "from sklearn.ensemble import RandomForestRegressor\n",
    "from mlforecast.target_transforms import Differences\n",
    "\n",
    "# To apply reconciliation\n",
    "# from hierarchicalforecast.core import HierarchicalReconciliation\n",
    "# from hierarchicalforecast.methods import BottomUp, TopDown, ERM, OptimalCombination"
   ]
  },
  {
   "cell_type": "code",
   "execution_count": 15,
   "id": "e11ed9f4-13e8-4228-be70-c43df74ec15b",
   "metadata": {
    "ExecuteTime": {
     "end_time": "2023-11-11T17:02:10.679192Z",
     "start_time": "2023-11-11T17:02:09.889573Z"
    },
    "execution": {
     "iopub.execute_input": "2023-11-12T05:58:31.141455Z",
     "iopub.status.busy": "2023-11-12T05:58:31.140723Z",
     "iopub.status.idle": "2023-11-12T05:58:31.154706Z",
     "shell.execute_reply": "2023-11-12T05:58:31.153942Z",
     "shell.execute_reply.started": "2023-11-12T05:58:31.141418Z"
    }
   },
   "outputs": [],
   "source": [
    "# In case of problems with loading from \"hierarchicalforecast.units\" run this cell after substituting the corresponding path.\n",
    "%run -i \"/Users/ivanandrusin/Desktop/PyCharmProjects/data-wagon-pioneers/.venv/lib/python3.9/site-packages/hierarchicalforecast/utils.py\""
   ]
  },
  {
   "cell_type": "code",
   "execution_count": 2,
   "id": "1e02cc59-24c0-4876-aa8d-81900b341c9d",
   "metadata": {
    "execution": {
     "iopub.execute_input": "2023-11-12T05:51:42.360386Z",
     "iopub.status.busy": "2023-11-12T05:51:42.359920Z",
     "iopub.status.idle": "2023-11-12T05:51:42.697889Z",
     "shell.execute_reply": "2023-11-12T05:51:42.696821Z",
     "shell.execute_reply.started": "2023-11-12T05:51:42.360357Z"
    }
   },
   "outputs": [],
   "source": [
    "# Import user modules.\n",
    "module_path = str(Path.cwd().parents[0])\n",
    "\n",
    "if module_path not in sys.path:\n",
    "    sys.path.append(module_path)\n",
    "\n",
    "from utils.data_process import (\n",
    "    add_master_data_mappings,\n",
    "    process_ts,\n",
    "    get_unique_id,\n",
    "    ts_length,\n",
    "    evaluate,\n",
    "    calc_score_public,\n",
    "    calc_score_private   \n",
    ")\n",
    "from utils.forecast_prep import forecast_prep\n",
    "from model.train_pred import tarin_predict, get_detalization"
   ]
  },
  {
   "cell_type": "code",
   "execution_count": 3,
   "id": "559e10c9-611e-4d5d-b948-02b1d21faf18",
   "metadata": {
    "ExecuteTime": {
     "end_time": "2023-11-11T17:02:12.076533Z",
     "start_time": "2023-11-11T17:02:12.073029Z"
    },
    "execution": {
     "iopub.execute_input": "2023-11-12T05:51:43.006264Z",
     "iopub.status.busy": "2023-11-12T05:51:43.005904Z",
     "iopub.status.idle": "2023-11-12T05:51:43.013713Z",
     "shell.execute_reply": "2023-11-12T05:51:43.012894Z",
     "shell.execute_reply.started": "2023-11-12T05:51:43.006239Z"
    }
   },
   "outputs": [],
   "source": [
    "# Folder with for keeping data files.\n",
    "data_folder = Path().cwd().parent / 'data'"
   ]
  },
  {
   "cell_type": "markdown",
   "id": "26463084-9f25-47f1-9471-2615aeb53cf2",
   "metadata": {
    "execution": {
     "iopub.execute_input": "2023-11-10T20:34:32.484832Z",
     "iopub.status.busy": "2023-11-10T20:34:32.484356Z",
     "iopub.status.idle": "2023-11-10T20:34:32.490123Z",
     "shell.execute_reply": "2023-11-10T20:34:32.488794Z",
     "shell.execute_reply.started": "2023-11-10T20:34:32.484795Z"
    }
   },
   "source": [
    "# Data Preparation"
   ]
  },
  {
   "cell_type": "code",
   "execution_count": 4,
   "id": "04069109-c302-4663-b0f9-ecfcd64aabd9",
   "metadata": {
    "ExecuteTime": {
     "end_time": "2023-11-11T17:02:15.752507Z",
     "start_time": "2023-11-11T17:02:12.421661Z"
    },
    "execution": {
     "iopub.execute_input": "2023-11-12T05:51:46.770964Z",
     "iopub.status.busy": "2023-11-12T05:51:46.770462Z",
     "iopub.status.idle": "2023-11-12T05:51:50.250239Z",
     "shell.execute_reply": "2023-11-12T05:51:50.249234Z",
     "shell.execute_reply.started": "2023-11-12T05:51:46.770938Z"
    }
   },
   "outputs": [],
   "source": [
    "# Read data.\n",
    "df = pd.read_csv(\n",
    "    data_folder / \"fact_train_test.csv\", \n",
    "    sep=\";\", \n",
    "    decimal=\",\", \n",
    "    encoding=\"windows-1251\"\n",
    ")\n",
    "# Convert datetime.\n",
    "df[\"period\"] = df[\"period\"].astype(\"datetime64[ns]\")"
   ]
  },
  {
   "cell_type": "markdown",
   "id": "01401787-e9ff-477c-a709-36bae98a8cda",
   "metadata": {},
   "source": [
    "Прогнозирование осуществляется на грануляции данных, соответсвующей KPI:\n",
    "- period\n",
    "- rps\n",
    "- holding_name\n",
    "- sender_department_name\n",
    "- recipient_department_name"
   ]
  },
  {
   "cell_type": "code",
   "execution_count": 5,
   "id": "e7a657a1-91c0-43a7-a656-9468de56cbce",
   "metadata": {
    "execution": {
     "iopub.execute_input": "2023-11-12T05:51:50.609349Z",
     "iopub.status.busy": "2023-11-12T05:51:50.608996Z",
     "iopub.status.idle": "2023-11-12T05:51:54.734134Z",
     "shell.execute_reply": "2023-11-12T05:51:54.733367Z",
     "shell.execute_reply.started": "2023-11-12T05:51:50.609323Z"
    }
   },
   "outputs": [],
   "source": [
    "# Add corresponding columns from mapper.\n",
    "df_mp = add_master_data_mappings(df=df, data_folder=data_folder)\n",
    "# Time series aggregation levels.\n",
    "accuracy_granularity = [\n",
    "    \"period\",\n",
    "    \"rps\",\n",
    "    \"holding_name\",\n",
    "    \"sender_department_name\",\n",
    "    \"recipient_department_name\",\n",
    "]\n",
    "# Aggregate data in accordance with given granularity.\n",
    "df_mp_agg = (\n",
    "    process_ts(\n",
    "        df=df_mp, \n",
    "        grp=accuracy_granularity, \n",
    "        cutoff=\"20170101\" # cut-off old data in order to increase efficiency\n",
    "    )\n",
    "    .set_index(\"period\")\n",
    "    .astype(np.int64)\n",
    "    .reset_index()\n",
    ")"
   ]
  },
  {
   "cell_type": "markdown",
   "id": "d3118d5c-4cb2-4da2-8df3-062358ababd0",
   "metadata": {},
   "source": [
    "Приведение всех временных рядов к одной длине посредством декартового произведения дат с уникальными id временых рядов:"
   ]
  },
  {
   "cell_type": "code",
   "execution_count": 6,
   "id": "d44ea86c-7385-4ed8-9534-16ea9efcf78c",
   "metadata": {
    "execution": {
     "iopub.execute_input": "2023-11-12T05:51:54.736856Z",
     "iopub.status.busy": "2023-11-12T05:51:54.736283Z",
     "iopub.status.idle": "2023-11-12T05:52:23.961113Z",
     "shell.execute_reply": "2023-11-12T05:52:23.960030Z",
     "shell.execute_reply.started": "2023-11-12T05:51:54.736801Z"
    }
   },
   "outputs": [],
   "source": [
    "# Time series alignment.\n",
    "df_mp_agg_full = ts_length(\n",
    "    df=df_mp_agg, \n",
    "    grp=accuracy_granularity, \n",
    "    exclude=['period']\n",
    ")"
   ]
  },
  {
   "cell_type": "markdown",
   "id": "50ab05ad-b402-49ae-a826-8ed8978553e5",
   "metadata": {},
   "source": [
    "# Forecast"
   ]
  },
  {
   "cell_type": "code",
   "execution_count": 7,
   "id": "8e2dc630-a974-4724-b13f-634d2d8a3983",
   "metadata": {
    "execution": {
     "iopub.execute_input": "2023-11-12T05:52:23.964200Z",
     "iopub.status.busy": "2023-11-12T05:52:23.963198Z",
     "iopub.status.idle": "2023-11-12T05:52:23.985147Z",
     "shell.execute_reply": "2023-11-12T05:52:23.984359Z",
     "shell.execute_reply.started": "2023-11-12T05:52:23.964165Z"
    }
   },
   "outputs": [],
   "source": [
    "# Train/test split date.\n",
    "SPLIT_DATE = df_mp_agg_full['period'].max() - relativedelta(months=5)\n",
    "# Create a list of the columns that represent the different levels of the hierarchy.\n",
    "spec = [\n",
    "    ['rps'],\n",
    "    ['rps', 'holding_name'],\n",
    "    ['rps', 'holding_name', 'sender_department_name'],\n",
    "    ['rps', 'holding_name', 'sender_department_name', 'recipient_department_name']\n",
    "]"
   ]
  },
  {
   "cell_type": "markdown",
   "id": "4c7f0c3b-cc93-4bd5-a8db-f237c0d9cd3b",
   "metadata": {},
   "source": [
    "## Model selection and tuning"
   ]
  },
  {
   "cell_type": "markdown",
   "id": "87435652-891c-43c2-9325-10e1f5baf01f",
   "metadata": {},
   "source": [
    "Для прогноза используем библиотеки [mlforecast](https://github.com/Nixtla/mlforecast) и [hierarchicalforecast](https://github.com/Nixtla/hierarchicalforecast), которые имеют удобные пайплайны для тестирования различных моделей и реконсолидации иерархических временных рядов."
   ]
  },
  {
   "cell_type": "code",
   "execution_count": 16,
   "id": "4304fce1-9cce-4a66-801f-5963a05bec48",
   "metadata": {
    "execution": {
     "iopub.execute_input": "2023-11-12T05:58:34.536818Z",
     "iopub.status.busy": "2023-11-12T05:58:34.536398Z",
     "iopub.status.idle": "2023-11-12T05:58:59.414616Z",
     "shell.execute_reply": "2023-11-12T05:58:59.413885Z",
     "shell.execute_reply.started": "2023-11-12T05:58:34.536790Z"
    }
   },
   "outputs": [],
   "source": [
    "# Split the data into different levels\n",
    "train, valid = forecast_prep(\n",
    "\t\tdf=df_mp_agg_full,\n",
    "\t\tsplit_date=SPLIT_DATE,\n",
    "\t\tgrp=accuracy_granularity,\n",
    ")\n",
    "train_agg, S_train, tags = aggregate(train, spec)\n",
    "valid_agg, _, _ = aggregate(valid, spec)"
   ]
  },
  {
   "cell_type": "code",
   "execution_count": 8,
   "id": "864cb0ae-246f-4a56-aea2-0c838ba28282",
   "metadata": {
    "execution": {
     "iopub.execute_input": "2023-11-12T05:52:23.989130Z",
     "iopub.status.busy": "2023-11-12T05:52:23.986476Z",
     "iopub.status.idle": "2023-11-12T05:52:23.995406Z",
     "shell.execute_reply": "2023-11-12T05:52:23.994113Z",
     "shell.execute_reply.started": "2023-11-12T05:52:23.989086Z"
    }
   },
   "outputs": [],
   "source": [
    "@njit\n",
    "def rolling_mean_3(x):\n",
    "    return rolling_mean(x, window_size=3)"
   ]
  },
  {
   "cell_type": "markdown",
   "id": "b138ca59-4d99-4c14-a19b-5d01005b3d79",
   "metadata": {},
   "source": [
    "Выбор моделей и добавление признаков:"
   ]
  },
  {
   "cell_type": "code",
   "execution_count": 12,
   "id": "7fd47ac7-700c-42f2-9d2a-6018bc89851b",
   "metadata": {
    "execution": {
     "iopub.execute_input": "2023-11-12T05:14:29.271841Z",
     "iopub.status.busy": "2023-11-12T05:14:29.271243Z",
     "iopub.status.idle": "2023-11-12T05:21:28.265895Z",
     "shell.execute_reply": "2023-11-12T05:21:28.264918Z",
     "shell.execute_reply.started": "2023-11-12T05:14:29.271786Z"
    }
   },
   "outputs": [
    {
     "data": {
      "text/plain": [
       "MLForecast(models=[LGBMRegressor, XGBRegressor, RandomForestRegressor], freq=<MonthBegin>, lag_features=['lag1', 'lag2', 'rolling_mean_3_lag2'], date_features=[], num_threads=1)"
      ]
     },
     "execution_count": 12,
     "metadata": {},
     "output_type": "execute_result"
    }
   ],
   "source": [
    "# Specify models.\n",
    "mlf_models = [\n",
    "    lgb.LGBMRegressor(verbosity=-1),\n",
    "    xgb.XGBRegressor(),\n",
    "    RandomForestRegressor(random_state=0),\n",
    "]\n",
    "# Define settings.\n",
    "mlf = MLForecast(\n",
    "    models=mlf_models,\n",
    "    freq='MS',\n",
    "    lag_transforms={\n",
    "        2: [expanding_mean],\n",
    "        2: [rolling_mean_3]\n",
    "    },\n",
    "    lags=[1, 2],\n",
    "    # date_features=['month'],\n",
    "    target_transforms=[Differences([1])],\n",
    ")\n",
    "# Fit model.\n",
    "mlf.fit(df=train_agg.reset_index())"
   ]
  },
  {
   "cell_type": "code",
   "execution_count": 13,
   "id": "09983529-4c7f-465c-9a63-d623924cadd0",
   "metadata": {
    "execution": {
     "iopub.execute_input": "2023-11-12T05:22:11.790982Z",
     "iopub.status.busy": "2023-11-12T05:22:11.790517Z",
     "iopub.status.idle": "2023-11-12T05:22:18.184388Z",
     "shell.execute_reply": "2023-11-12T05:22:18.183581Z",
     "shell.execute_reply.started": "2023-11-12T05:22:11.790955Z"
    }
   },
   "outputs": [],
   "source": [
    "# Generate predictions.\n",
    "base_forecast_df = mlf.predict(5)"
   ]
  },
  {
   "cell_type": "code",
   "execution_count": 14,
   "id": "14e5a605-c7b7-4d22-9d38-c918e95de102",
   "metadata": {
    "execution": {
     "iopub.execute_input": "2023-11-12T05:22:35.770837Z",
     "iopub.status.busy": "2023-11-12T05:22:35.770412Z",
     "iopub.status.idle": "2023-11-12T05:22:36.146424Z",
     "shell.execute_reply": "2023-11-12T05:22:36.145345Z",
     "shell.execute_reply.started": "2023-11-12T05:22:35.770813Z"
    }
   },
   "outputs": [
    {
     "name": "stdout",
     "output_type": "stream",
     "text": [
      "LGBMRegressor: 2.2451169882258593\n",
      "XGBRegressor: 2.598655589396085\n",
      "RandomForestRegressor: 2.5986660735015645\n"
     ]
    }
   ],
   "source": [
    "# Forecast validation.\n",
    "res = valid_agg.reset_index().merge(\n",
    "    base_forecast_df, \n",
    "    how='left', \n",
    "    on=['unique_id', 'ds']\n",
    ").fillna(0)\n",
    "model_cols = [col for col in base_forecast_df.columns if col not in ['unique_id', 'ds']]\n",
    "for col in model_cols:\n",
    "    print(\n",
    "        f\"{col}: {mean_squared_error(res['y'], res[col], squared=False)/1e3}\")"
   ]
  },
  {
   "cell_type": "markdown",
   "id": "a1c8fcf0-70b3-4ad8-8f91-53190a239148",
   "metadata": {},
   "source": [
    "Реконсолидация временных рядов на разных уровнях (при текущем объеме данных требует достаточно много вычислительных ресурсов - минимум около 32 Гб RAM). При наличии достаточных ресурсов перенести код ниже в исполняемую ячейку.\n",
    "```python\n",
    "reconcilers = [\n",
    "    BottomUp(),\n",
    "]\n",
    "hrec = HierarchicalReconciliation(reconcilers=reconcilers)\n",
    "base_forecast_df = hrec.reconcile(\n",
    "    Y_hat_df=base_forecast_df.set_index('unique_id'), \n",
    "    Y_df = train_agg, \n",
    "    S=S_train, \n",
    "    tags=tags\n",
    ")\n",
    "```"
   ]
  },
  {
   "cell_type": "markdown",
   "id": "fecd4139-ab34-46c3-9620-d09b322b89b5",
   "metadata": {
    "execution": {
     "iopub.execute_input": "2023-11-12T00:24:46.005698Z",
     "iopub.status.busy": "2023-11-12T00:24:46.005100Z",
     "iopub.status.idle": "2023-11-12T00:24:46.010518Z",
     "shell.execute_reply": "2023-11-12T00:24:46.009255Z",
     "shell.execute_reply.started": "2023-11-12T00:24:46.005660Z"
    }
   },
   "source": [
    "## Get predictions"
   ]
  },
  {
   "cell_type": "markdown",
   "id": "333fa17c-bd25-4978-9604-c7877a0ad874",
   "metadata": {
    "execution": {
     "iopub.execute_input": "2023-11-12T05:24:05.402169Z",
     "iopub.status.busy": "2023-11-12T05:24:05.401658Z",
     "iopub.status.idle": "2023-11-12T05:24:05.411434Z",
     "shell.execute_reply": "2023-11-12T05:24:05.410010Z",
     "shell.execute_reply.started": "2023-11-12T05:24:05.402131Z"
    }
   },
   "source": [
    "Выбираем модель с наименьшей ошибкой на тестовой выборке и обучаем на всем датасете:"
   ]
  },
  {
   "cell_type": "code",
   "execution_count": 9,
   "id": "d43fdf07-2658-44f4-9031-9ff0dcee7b82",
   "metadata": {
    "execution": {
     "iopub.execute_input": "2023-11-12T05:56:04.667268Z",
     "iopub.status.busy": "2023-11-12T05:56:04.666925Z",
     "iopub.status.idle": "2023-11-12T05:56:45.601475Z",
     "shell.execute_reply": "2023-11-12T05:56:45.600430Z",
     "shell.execute_reply.started": "2023-11-12T05:56:04.667245Z"
    }
   },
   "outputs": [],
   "source": [
    "# Select best model based on above research.\n",
    "best_model = mlf = MLForecast(\n",
    "    models=[lgb.LGBMRegressor(verbosity=-1)],\n",
    "    freq='MS',\n",
    "    lag_transforms={\n",
    "        2: [expanding_mean],\n",
    "        2: [rolling_mean_3]\n",
    "    },\n",
    "    lags=[1, 2],\n",
    "    # date_features=['month'],\n",
    "    target_transforms=[Differences([1])],\n",
    ")\n",
    "answer = tarin_predict(\n",
    "    df=df_mp_agg_full, \n",
    "    grp=accuracy_granularity, \n",
    "    model=best_model,\n",
    "    spec=spec,\n",
    "    horizon=5\n",
    ")"
   ]
  },
  {
   "cell_type": "markdown",
   "id": "d447bada-4814-4eb0-9bc7-f79cafbdd94c",
   "metadata": {},
   "source": [
    "## Increase detalization"
   ]
  },
  {
   "cell_type": "markdown",
   "id": "79849e58-17b3-43ee-a620-0b3e8fc5713e",
   "metadata": {},
   "source": [
    "Увеличиваем детализацию временных рядов. Для этого определим два уровня агрегации врменных рядов, присвоим им уникальные id и найдем пропорцию вхождения каждого из низкоуровневых временных рядов (НВР) в высокоуровневый (ВВР). Далее распределим значения таргета, полученные после обучения модели для ВВР, между НВР в соответсвующих пропорциях."
   ]
  },
  {
   "cell_type": "code",
   "execution_count": 10,
   "id": "26cfd80b-8f39-4f0b-8df1-8e8d266efe0e",
   "metadata": {
    "execution": {
     "iopub.execute_input": "2023-11-12T05:57:31.319676Z",
     "iopub.status.busy": "2023-11-12T05:57:31.318853Z",
     "iopub.status.idle": "2023-11-12T05:57:31.325988Z",
     "shell.execute_reply": "2023-11-12T05:57:31.324488Z",
     "shell.execute_reply.started": "2023-11-12T05:57:31.319628Z"
    }
   },
   "outputs": [],
   "source": [
    "# Set low-level unique id columns.\n",
    "uid = [\n",
    "    'rps', \n",
    "    'podrod',\n",
    "    'filial',\n",
    "    'client_sap_id',\n",
    "    'freight_id',\n",
    "    'sender_station_id',\n",
    "    'recipient_station_id',\n",
    "    'sender_organisation_id'\n",
    "]"
   ]
  },
  {
   "cell_type": "code",
   "execution_count": 11,
   "id": "6700cf38-6691-495d-a389-ebd89d562195",
   "metadata": {
    "execution": {
     "iopub.execute_input": "2023-11-12T05:57:31.721608Z",
     "iopub.status.busy": "2023-11-12T05:57:31.720908Z",
     "iopub.status.idle": "2023-11-12T05:57:37.003526Z",
     "shell.execute_reply": "2023-11-12T05:57:37.002535Z",
     "shell.execute_reply.started": "2023-11-12T05:57:31.721554Z"
    }
   },
   "outputs": [],
   "source": [
    "# Get final submission dataframe.\n",
    "with warnings.catch_warnings():\n",
    "    warnings.filterwarnings('ignore')\n",
    "    submit_df = get_detalization(\n",
    "        df=df_mp, \n",
    "        answer=answer, \n",
    "        model_name='LGBMRegressor', \n",
    "        uid=uid,\n",
    "        grp=accuracy_granularity,\n",
    "        start_period='2023-01-01', \n",
    "        weight_factor=60\n",
    "    )"
   ]
  },
  {
   "cell_type": "code",
   "execution_count": 12,
   "id": "c5b32f09-2c06-4067-9436-0e12dceb8312",
   "metadata": {
    "execution": {
     "iopub.execute_input": "2023-11-12T05:57:49.543507Z",
     "iopub.status.busy": "2023-11-12T05:57:49.543092Z",
     "iopub.status.idle": "2023-11-12T05:57:51.535746Z",
     "shell.execute_reply": "2023-11-12T05:57:51.534915Z",
     "shell.execute_reply.started": "2023-11-12T05:57:49.543483Z"
    }
   },
   "outputs": [],
   "source": [
    "# Save predictions file for validation/submission.\n",
    "submit_df.to_csv(\n",
    "    data_folder / \"forecast_lgb_v1.csv\", \n",
    "    index=False, sep=\";\", \n",
    "    decimal=\",\", \n",
    "    encoding=\"windows-1251\"\n",
    ")"
   ]
  },
  {
   "cell_type": "markdown",
   "id": "d837924c-77f3-49a3-8433-3fe34b2148ea",
   "metadata": {},
   "source": [
    "# Validation"
   ]
  },
  {
   "cell_type": "code",
   "execution_count": 28,
   "id": "513577b1-2691-4319-8447-78bd4f20f675",
   "metadata": {
    "execution": {
     "iopub.execute_input": "2023-11-12T06:04:52.723960Z",
     "iopub.status.busy": "2023-11-12T06:04:52.723210Z",
     "iopub.status.idle": "2023-11-12T06:04:54.298360Z",
     "shell.execute_reply": "2023-11-12T06:04:54.296918Z",
     "shell.execute_reply.started": "2023-11-12T06:04:52.723922Z"
    }
   },
   "outputs": [],
   "source": [
    "# Save test file for validation.\n",
    "df[df['period'] > SPLIT_DATE].to_csv(\n",
    "    data_folder / \"fact_validation.csv\",\n",
    "    index=False, sep=\";\", \n",
    "    decimal=\",\", \n",
    "    encoding=\"windows-1251\"\n",
    ")"
   ]
  },
  {
   "cell_type": "code",
   "execution_count": null,
   "id": "1659dcd6-9f1c-4e74-b18a-a88bd27baa07",
   "metadata": {},
   "outputs": [],
   "source": [
    "# = Примеры файлов для проверки =\n",
    "validation_file = data_folder / \"fact_validation.csv\"\n",
    "forecast_file = data_folder / \"forecast_lgb_v1.csv\"\n",
    "\n",
    "# Валидационный датасет\n",
    "fact = pd.read_csv(validation_file, sep=\";\", decimal=\",\", encoding=\"windows-1251\")\n",
    "# print(\"Валидационный датасет:\", fact.shape)\n",
    "# Прогноз\n",
    "forecast = pd.read_csv(forecast_file, sep=\";\", decimal=\",\", encoding=\"windows-1251\")\n",
    "# print(\"Прогноз:\", forecast.shape)\n",
    "\n",
    "# Скорим\n",
    "score_public = calc_score_public(fact, forecast)\n",
    "score_private = calc_score_private(fact, forecast)\n",
    "print(f\"Public score: {score_public}\")\n",
    "print(f\"Private score: {score_private}\")"
   ]
  }
 ],
 "metadata": {
  "kernelspec": {
   "display_name": "Python 3 (ipykernel)",
   "language": "python",
   "name": "python3"
  },
  "language_info": {
   "codemirror_mode": {
    "name": "ipython",
    "version": 3
   },
   "file_extension": ".py",
   "mimetype": "text/x-python",
   "name": "python",
   "nbconvert_exporter": "python",
   "pygments_lexer": "ipython3",
   "version": "3.9.2"
  },
  "toc": {
   "base_numbering": 1,
   "nav_menu": {},
   "number_sections": true,
   "sideBar": true,
   "skip_h1_title": false,
   "title_cell": "Table of Contents",
   "title_sidebar": "Contents",
   "toc_cell": false,
   "toc_position": {
    "height": "819px",
    "left": "55px",
    "top": "412.125px",
    "width": "373.188px"
   },
   "toc_section_display": true,
   "toc_window_display": true
  }
 },
 "nbformat": 4,
 "nbformat_minor": 5
}
