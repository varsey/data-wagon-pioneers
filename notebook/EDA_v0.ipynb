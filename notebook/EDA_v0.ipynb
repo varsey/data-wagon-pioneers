{
 "cells": [
  {
   "cell_type": "markdown",
   "id": "ef9b637e",
   "metadata": {},
   "source": [
    "# Libs & Settings"
   ]
  },
  {
   "cell_type": "code",
   "execution_count": 1,
   "id": "d6271076",
   "metadata": {
    "ExecuteTime": {
     "end_time": "2023-11-11T17:02:09.886093Z",
     "start_time": "2023-11-11T17:02:08.378196Z"
    },
    "execution": {
     "iopub.execute_input": "2023-11-12T00:35:58.371026Z",
     "iopub.status.busy": "2023-11-12T00:35:58.370341Z",
     "iopub.status.idle": "2023-11-12T00:36:01.462486Z",
     "shell.execute_reply": "2023-11-12T00:36:01.461569Z",
     "shell.execute_reply.started": "2023-11-12T00:35:58.370987Z"
    }
   },
   "outputs": [],
   "source": [
    "import numpy as np\n",
    "import polars as pl\n",
    "import pandas as pd\n",
    "from tqdm import tqdm\n",
    "from pathlib import Path\n",
    "import plotly.express as px\n",
    "import matplotlib.pyplot as plt\n",
    "from typing import List\n",
    "import lightgbm as lgb\n",
    "from mlforecast import MLForecast\n",
    "from dateutil.relativedelta import relativedelta\n",
    "from numba import njit\n",
    "from window_ops.expanding import expanding_mean\n",
    "from window_ops.rolling import rolling_mean\n",
    "import xgboost as xgb\n",
    "from sklearn.ensemble import RandomForestRegressor"
   ]
  },
  {
   "cell_type": "code",
   "execution_count": 2,
   "id": "e11ed9f4-13e8-4228-be70-c43df74ec15b",
   "metadata": {
    "ExecuteTime": {
     "end_time": "2023-11-11T17:02:10.679192Z",
     "start_time": "2023-11-11T17:02:09.889573Z"
    },
    "execution": {
     "iopub.execute_input": "2023-11-12T00:36:01.470714Z",
     "iopub.status.busy": "2023-11-12T00:36:01.470358Z",
     "iopub.status.idle": "2023-11-12T00:36:01.528846Z",
     "shell.execute_reply": "2023-11-12T00:36:01.504133Z",
     "shell.execute_reply.started": "2023-11-12T00:36:01.470690Z"
    }
   },
   "outputs": [],
   "source": [
    "%run -i \"/Users/ivanandrusin/Desktop/PyCharmProjects/data-wagon-pioneers/.venv/lib/python3.9/site-packages/hierarchicalforecast/utils.py\""
   ]
  },
  {
   "cell_type": "code",
   "execution_count": 3,
   "id": "4deb2cab-bec6-4ff7-8ed2-b6132b636468",
   "metadata": {
    "ExecuteTime": {
     "end_time": "2023-11-11T17:02:12.068707Z",
     "start_time": "2023-11-11T17:02:10.681448Z"
    },
    "execution": {
     "iopub.execute_input": "2023-11-12T00:36:01.533547Z",
     "iopub.status.busy": "2023-11-12T00:36:01.530195Z",
     "iopub.status.idle": "2023-11-12T00:36:02.603488Z",
     "shell.execute_reply": "2023-11-12T00:36:02.602664Z",
     "shell.execute_reply.started": "2023-11-12T00:36:01.533484Z"
    }
   },
   "outputs": [],
   "source": [
    "import warnings\n",
    "warnings.filterwarnings('ignore')\n",
    "\n",
    "import numpy as np\n",
    "import pandas as pd\n",
    "import plotly.express as px\n",
    "import matplotlib.pyplot as plt\n",
    "from statsforecast import StatsForecast\n",
    "from sklearn.metrics import mean_squared_error\n",
    "from statsforecast.models import (\n",
    "    AutoARIMA,\n",
    "    # HistoricAvarage,\n",
    "    SeasonalNaive,\n",
    "    HoltWinters,\n",
    "    MSTL,\n",
    ")\n",
    "\n",
    "from hierarchicalforecast.core import HierarchicalReconciliation\n",
    "from hierarchicalforecast.methods import BottomUp, TopDown, ERM, OptimalCombination"
   ]
  },
  {
   "cell_type": "code",
   "execution_count": 4,
   "id": "559e10c9-611e-4d5d-b948-02b1d21faf18",
   "metadata": {
    "ExecuteTime": {
     "end_time": "2023-11-11T17:02:12.076533Z",
     "start_time": "2023-11-11T17:02:12.073029Z"
    },
    "execution": {
     "iopub.execute_input": "2023-11-12T00:36:02.607220Z",
     "iopub.status.busy": "2023-11-12T00:36:02.606754Z",
     "iopub.status.idle": "2023-11-12T00:36:02.611428Z",
     "shell.execute_reply": "2023-11-12T00:36:02.610639Z",
     "shell.execute_reply.started": "2023-11-12T00:36:02.607198Z"
    }
   },
   "outputs": [],
   "source": [
    "data_folder = Path().cwd().parent / 'data'"
   ]
  },
  {
   "cell_type": "markdown",
   "id": "26463084-9f25-47f1-9471-2615aeb53cf2",
   "metadata": {
    "execution": {
     "iopub.execute_input": "2023-11-10T20:34:32.484832Z",
     "iopub.status.busy": "2023-11-10T20:34:32.484356Z",
     "iopub.status.idle": "2023-11-10T20:34:32.490123Z",
     "shell.execute_reply": "2023-11-10T20:34:32.488794Z",
     "shell.execute_reply.started": "2023-11-10T20:34:32.484795Z"
    }
   },
   "source": [
    "# Data Analysis"
   ]
  },
  {
   "cell_type": "code",
   "execution_count": 5,
   "id": "04069109-c302-4663-b0f9-ecfcd64aabd9",
   "metadata": {
    "ExecuteTime": {
     "end_time": "2023-11-11T17:02:15.752507Z",
     "start_time": "2023-11-11T17:02:12.421661Z"
    },
    "execution": {
     "iopub.execute_input": "2023-11-12T00:36:04.583610Z",
     "iopub.status.busy": "2023-11-12T00:36:04.583110Z",
     "iopub.status.idle": "2023-11-12T00:36:08.017095Z",
     "shell.execute_reply": "2023-11-12T00:36:08.016381Z",
     "shell.execute_reply.started": "2023-11-12T00:36:04.583573Z"
    }
   },
   "outputs": [],
   "source": [
    "# Read data.\n",
    "df = pd.read_csv(\n",
    "    data_folder / \"fact_train_test.csv\", \n",
    "    sep=\";\", \n",
    "    decimal=\",\", \n",
    "    encoding=\"windows-1251\"\n",
    ")\n",
    "# Convert\n",
    "df[\"period\"] = df[\"period\"].astype(\"datetime64[ns]\")"
   ]
  },
  {
   "cell_type": "code",
   "execution_count": 6,
   "id": "df00f106-d20c-4896-994e-da63291a09a7",
   "metadata": {
    "ExecuteTime": {
     "end_time": "2023-11-11T17:02:16.199541Z",
     "start_time": "2023-11-11T17:02:15.755020Z"
    },
    "execution": {
     "iopub.execute_input": "2023-11-12T00:36:08.019658Z",
     "iopub.status.busy": "2023-11-12T00:36:08.019283Z",
     "iopub.status.idle": "2023-11-12T00:36:08.387300Z",
     "shell.execute_reply": "2023-11-12T00:36:08.386515Z",
     "shell.execute_reply.started": "2023-11-12T00:36:08.019632Z"
    }
   },
   "outputs": [
    {
     "data": {
      "text/plain": [
       "period                       85\n",
       "rps                           2\n",
       "podrod                        7\n",
       "filial                        3\n",
       "client_sap_id              2036\n",
       "freight_id                 2652\n",
       "sender_station_id          3256\n",
       "recipient_station_id       4684\n",
       "sender_organisation_id    33758\n",
       "real_weight               50461\n",
       "real_wagon_count           3669\n",
       "dtype: int64"
      ]
     },
     "execution_count": 6,
     "metadata": {},
     "output_type": "execute_result"
    }
   ],
   "source": [
    "# Count uniques.\n",
    "df.nunique()"
   ]
  },
  {
   "cell_type": "markdown",
   "id": "c547966c-5ad2-4ed1-9b2d-89e645f6e179",
   "metadata": {},
   "source": [
    "## Aggregate TS"
   ]
  },
  {
   "cell_type": "code",
   "execution_count": 7,
   "id": "5e9a7c27-0c51-4b24-a4d5-f6440f2bc006",
   "metadata": {
    "ExecuteTime": {
     "end_time": "2023-11-11T17:02:26.768366Z",
     "start_time": "2023-11-11T17:02:26.762179Z"
    },
    "execution": {
     "iopub.execute_input": "2023-11-11T22:28:18.480280Z",
     "iopub.status.busy": "2023-11-11T22:28:18.479297Z",
     "iopub.status.idle": "2023-11-11T22:28:18.486644Z",
     "shell.execute_reply": "2023-11-11T22:28:18.485925Z",
     "shell.execute_reply.started": "2023-11-11T22:28:18.480248Z"
    }
   },
   "outputs": [],
   "source": [
    "def process_ts(df, uid, target=['real_wagon_count']):\n",
    "    grp = ['period'] + uid\n",
    "    df_new = (\n",
    "        df[grp + target]\n",
    "        .query('period >= \"2017-01-01\"')\n",
    "        .groupby(grp)[target]\n",
    "        .sum()\n",
    "        .reset_index()\n",
    "    )\n",
    "    pdf = pl.from_pandas(df_new)\n",
    "    ddf = (\n",
    "        pdf.with_columns(\n",
    "            pdf.select([\n",
    "                pl.concat_str(pl.col(uid), separator='_')\n",
    "                .alias(\"unique_ts\"),\n",
    "            ])\n",
    "        )\n",
    "        .to_pandas()\n",
    "    )\n",
    "    return ddf"
   ]
  },
  {
   "cell_type": "code",
   "execution_count": 8,
   "id": "363411ee-c8ba-462f-9ca5-1d201caee08a",
   "metadata": {
    "ExecuteTime": {
     "end_time": "2023-11-11T17:02:28.058481Z",
     "start_time": "2023-11-11T17:02:28.054452Z"
    },
    "execution": {
     "iopub.execute_input": "2023-11-11T22:28:18.488404Z",
     "iopub.status.busy": "2023-11-11T22:28:18.487747Z",
     "iopub.status.idle": "2023-11-11T22:28:18.492417Z",
     "shell.execute_reply": "2023-11-11T22:28:18.491160Z",
     "shell.execute_reply.started": "2023-11-11T22:28:18.488339Z"
    }
   },
   "outputs": [],
   "source": [
    "general_agg = [\n",
    "    'rps', \n",
    "    'client_sap_id',\n",
    "    'sender_station_id',\n",
    "    'recipient_station_id'\n",
    "]"
   ]
  },
  {
   "cell_type": "code",
   "execution_count": 9,
   "id": "f19ba883-d8ed-4648-b0e6-7d618226bed6",
   "metadata": {
    "ExecuteTime": {
     "end_time": "2023-11-11T17:02:31.626854Z",
     "start_time": "2023-11-11T17:02:28.419878Z"
    },
    "execution": {
     "iopub.execute_input": "2023-11-11T22:28:18.494326Z",
     "iopub.status.busy": "2023-11-11T22:28:18.493713Z",
     "iopub.status.idle": "2023-11-11T22:28:21.216803Z",
     "shell.execute_reply": "2023-11-11T22:28:21.215911Z",
     "shell.execute_reply.started": "2023-11-11T22:28:18.494289Z"
    }
   },
   "outputs": [],
   "source": [
    "df_agg = process_ts(df=df, uid=general_agg)"
   ]
  },
  {
   "cell_type": "markdown",
   "id": "c578183b-c821-439d-b2b5-b4bb2a4c11d7",
   "metadata": {},
   "source": [
    "## Mappings"
   ]
  },
  {
   "cell_type": "code",
   "execution_count": 7,
   "id": "f9e7b44f-01de-4a13-8d06-7806dcf61ccb",
   "metadata": {
    "execution": {
     "iopub.execute_input": "2023-11-12T00:36:08.389194Z",
     "iopub.status.busy": "2023-11-12T00:36:08.388565Z",
     "iopub.status.idle": "2023-11-12T00:36:08.401614Z",
     "shell.execute_reply": "2023-11-12T00:36:08.400359Z",
     "shell.execute_reply.started": "2023-11-12T00:36:08.389159Z"
    }
   },
   "outputs": [],
   "source": [
    "def add_master_data_mappings(df: pd.DataFrame) -> pd.DataFrame:\n",
    "    # = Пути к справочникам - откорректировать если в реальной системе будут лежать по другому адресу =\n",
    "    client_mapping_file = data_folder / \"client_mapping.csv\"\n",
    "    freight_mapping_file = data_folder / \"freight_mapping.csv\"\n",
    "    station_mapping_file = data_folder / \"station_mapping.csv\"\n",
    "\n",
    "    # Клиент - холдинг\n",
    "    client_mapping = pd.read_csv(\n",
    "        client_mapping_file,\n",
    "        sep=\";\",\n",
    "        decimal=\",\",\n",
    "        encoding=\"windows-1251\",\n",
    "    )\n",
    "    df = pd.merge(df, client_mapping, how=\"left\", on=\"client_sap_id\")\n",
    "\n",
    "    # Груз\n",
    "    freight_mapping = pd.read_csv(\n",
    "        freight_mapping_file, sep=\";\", decimal=\",\", encoding=\"windows-1251\"\n",
    "    )\n",
    "    df = pd.merge(df, freight_mapping, how=\"left\", on=\"freight_id\")\n",
    "\n",
    "    # Станции\n",
    "    station_mapping = pd.read_csv(\n",
    "        station_mapping_file,\n",
    "        sep=\";\",\n",
    "        decimal=\",\",\n",
    "        encoding=\"windows-1251\",\n",
    "    )\n",
    "    df = pd.merge(\n",
    "        df,\n",
    "        station_mapping.add_prefix(\"sender_\"),\n",
    "        how=\"left\",\n",
    "        on=\"sender_station_id\",\n",
    "    )\n",
    "    df = pd.merge(\n",
    "        df,\n",
    "        station_mapping.add_prefix(\"recipient_\"),\n",
    "        how=\"left\",\n",
    "        on=\"recipient_station_id\",\n",
    "    )\n",
    "\n",
    "    return df\n",
    "\n",
    "\n",
    "# Preprocess data.\n",
    "def process_ts(df, grp, target='real_wagon_count', cutoff=\"20120101\"):\n",
    "    _df = (\n",
    "        df[grp + [target]]\n",
    "        .query(f'period >= {cutoff}')\n",
    "        .groupby(grp)[target]\n",
    "        .sum()\n",
    "        .reset_index()\n",
    "    )\n",
    "    return _df\n",
    "\n",
    "# Generate unique id for initial data.\n",
    "def get_unique_id(df, uid):\n",
    "    pdf = pl.from_pandas(df)\n",
    "    _df = (\n",
    "        pdf.with_columns(\n",
    "            pdf.select([\n",
    "                pl.concat_str(\n",
    "                    pl.col(uid), \n",
    "                    separator='_'\n",
    "                )\n",
    "                .alias(\"unique_ts\"),\n",
    "            ]))\n",
    "        .to_pandas()\n",
    "    )\n",
    "    return _df"
   ]
  },
  {
   "cell_type": "code",
   "execution_count": null,
   "id": "6e177670-a545-445b-9e28-e76d68137414",
   "metadata": {},
   "outputs": [],
   "source": []
  },
  {
   "cell_type": "code",
   "execution_count": 8,
   "id": "e7a657a1-91c0-43a7-a656-9468de56cbce",
   "metadata": {
    "execution": {
     "iopub.execute_input": "2023-11-12T00:36:08.575770Z",
     "iopub.status.busy": "2023-11-12T00:36:08.575378Z",
     "iopub.status.idle": "2023-11-12T00:36:12.818613Z",
     "shell.execute_reply": "2023-11-12T00:36:12.817204Z",
     "shell.execute_reply.started": "2023-11-12T00:36:08.575741Z"
    }
   },
   "outputs": [
    {
     "data": {
      "text/plain": [
       "period                         75\n",
       "rps                             2\n",
       "holding_name                 1892\n",
       "sender_department_name        133\n",
       "recipient_department_name     143\n",
       "real_wagon_count             5621\n",
       "dtype: int64"
      ]
     },
     "execution_count": 8,
     "metadata": {},
     "output_type": "execute_result"
    }
   ],
   "source": [
    "# Map id columns.\n",
    "df_mp = add_master_data_mappings(df)\n",
    "# Time series aggregation levels.\n",
    "accuracy_granularity = [\n",
    "    \"period\",\n",
    "    \"rps\",\n",
    "    \"holding_name\",\n",
    "    \"sender_department_name\",\n",
    "    \"recipient_department_name\",\n",
    "]\n",
    "\n",
    "df_mp_agg = (\n",
    "    process_ts(df=df_mp, grp=accuracy_granularity, cutoff=\"20170101\")\n",
    "    .set_index(\"period\")\n",
    "    .astype(np.int64)\n",
    "    .reset_index()\n",
    ")\n",
    "# Check uniques.\n",
    "df_mp_agg.nunique()"
   ]
  },
  {
   "cell_type": "code",
   "execution_count": null,
   "id": "fa22fc5b-a4af-48ad-b10a-c5b0550f6218",
   "metadata": {},
   "outputs": [],
   "source": []
  },
  {
   "cell_type": "code",
   "execution_count": 9,
   "id": "81534dfd-e79b-4183-af5e-57596afe29c6",
   "metadata": {
    "execution": {
     "iopub.execute_input": "2023-11-12T00:36:18.569300Z",
     "iopub.status.busy": "2023-11-12T00:36:18.568370Z",
     "iopub.status.idle": "2023-11-12T00:36:20.826444Z",
     "shell.execute_reply": "2023-11-12T00:36:20.825444Z",
     "shell.execute_reply.started": "2023-11-12T00:36:18.569248Z"
    }
   },
   "outputs": [],
   "source": [
    "uid = [\n",
    "    'rps', \n",
    "    'podrod',\n",
    "    'filial',\n",
    "    'client_sap_id',\n",
    "    'freight_id',\n",
    "    'sender_station_id',\n",
    "    'recipient_station_id',\n",
    "    'sender_organisation_id'\n",
    "]\n",
    "\n",
    "df_mp_uid = get_unique_id(df=df_mp, uid=uid)"
   ]
  },
  {
   "cell_type": "code",
   "execution_count": null,
   "id": "6638045d-dc07-4276-ab91-f04cd59d4301",
   "metadata": {},
   "outputs": [],
   "source": []
  },
  {
   "cell_type": "code",
   "execution_count": null,
   "id": "fb248dd3-b385-4a54-a3d6-1004b6c09c39",
   "metadata": {},
   "outputs": [],
   "source": []
  },
  {
   "cell_type": "code",
   "execution_count": 10,
   "id": "a9e4cb6e-ff44-4659-bfec-9f4c852622de",
   "metadata": {
    "execution": {
     "iopub.execute_input": "2023-11-12T00:36:24.778814Z",
     "iopub.status.busy": "2023-11-12T00:36:24.778355Z",
     "iopub.status.idle": "2023-11-12T00:36:36.091557Z",
     "shell.execute_reply": "2023-11-12T00:36:36.090723Z",
     "shell.execute_reply.started": "2023-11-12T00:36:24.778782Z"
    }
   },
   "outputs": [],
   "source": [
    "df_mp_agg_ = get_unique_id(df_mp_agg, accuracy_granularity[1:]).drop(columns=accuracy_granularity[1:])\n",
    "cartesian = pd.DataFrame(\n",
    "    data=pd.MultiIndex.from_product(\n",
    "        [df_mp_agg_.period.unique(), \n",
    "         df_mp_agg_.unique_ts.unique()]\n",
    "    ).to_list(), \n",
    "    columns=['period', 'unique_ts']\n",
    ")"
   ]
  },
  {
   "cell_type": "code",
   "execution_count": 11,
   "id": "9955da29-161c-4c46-831b-328fbc251697",
   "metadata": {
    "execution": {
     "iopub.execute_input": "2023-11-12T00:36:36.093342Z",
     "iopub.status.busy": "2023-11-12T00:36:36.093045Z",
     "iopub.status.idle": "2023-11-12T00:36:38.152394Z",
     "shell.execute_reply": "2023-11-12T00:36:38.151593Z",
     "shell.execute_reply.started": "2023-11-12T00:36:36.093322Z"
    }
   },
   "outputs": [],
   "source": [
    "df_mp_agg_full = cartesian.merge(df_mp_agg_, how='left', on = ['period', 'unique_ts']).fillna(0)"
   ]
  },
  {
   "cell_type": "code",
   "execution_count": 12,
   "id": "d44ea86c-7385-4ed8-9534-16ea9efcf78c",
   "metadata": {
    "execution": {
     "iopub.execute_input": "2023-11-12T00:36:38.154750Z",
     "iopub.status.busy": "2023-11-12T00:36:38.154342Z",
     "iopub.status.idle": "2023-11-12T00:36:50.455699Z",
     "shell.execute_reply": "2023-11-12T00:36:50.454698Z",
     "shell.execute_reply.started": "2023-11-12T00:36:38.154726Z"
    }
   },
   "outputs": [],
   "source": [
    "df_mp_agg_full[accuracy_granularity[1:]] = (\n",
    "    df_mp_agg_full['unique_ts']\n",
    "    .str\n",
    "    .split('_', n=len(accuracy_granularity[1:]), expand=True)\n",
    ")"
   ]
  },
  {
   "cell_type": "code",
   "execution_count": 13,
   "id": "0e746294-7be9-4fc1-9dc7-8137efd9b8f5",
   "metadata": {
    "execution": {
     "iopub.execute_input": "2023-11-12T00:36:50.458819Z",
     "iopub.status.busy": "2023-11-12T00:36:50.458340Z",
     "iopub.status.idle": "2023-11-12T00:36:52.992695Z",
     "shell.execute_reply": "2023-11-12T00:36:52.991826Z",
     "shell.execute_reply.started": "2023-11-12T00:36:50.458789Z"
    }
   },
   "outputs": [],
   "source": [
    "df_mp_agg_full = (\n",
    "    df_mp_agg_full.drop(columns=['unique_ts'])\n",
    "    .assign(real_wagon_count=lambda x: x['real_wagon_count'].astype(np.int64))\n",
    ")"
   ]
  },
  {
   "cell_type": "markdown",
   "id": "50ab05ad-b402-49ae-a826-8ed8978553e5",
   "metadata": {},
   "source": [
    "## Forecast"
   ]
  },
  {
   "cell_type": "code",
   "execution_count": 20,
   "id": "4304fce1-9cce-4a66-801f-5963a05bec48",
   "metadata": {
    "execution": {
     "iopub.execute_input": "2023-11-12T00:39:55.478893Z",
     "iopub.status.busy": "2023-11-12T00:39:55.478397Z",
     "iopub.status.idle": "2023-11-12T00:39:55.487504Z",
     "shell.execute_reply": "2023-11-12T00:39:55.485594Z",
     "shell.execute_reply.started": "2023-11-12T00:39:55.478863Z"
    }
   },
   "outputs": [],
   "source": [
    "# Cut-off date.\n",
    "SPLIT_DATE = df_mp_agg['period'].max() - relativedelta(months=5)"
   ]
  },
  {
   "cell_type": "code",
   "execution_count": 21,
   "id": "1e43b775-ce7d-42aa-beef-0dfc8983f205",
   "metadata": {
    "execution": {
     "iopub.execute_input": "2023-11-12T00:40:01.847722Z",
     "iopub.status.busy": "2023-11-12T00:40:01.847283Z",
     "iopub.status.idle": "2023-11-12T00:40:04.865515Z",
     "shell.execute_reply": "2023-11-12T00:40:04.864222Z",
     "shell.execute_reply.started": "2023-11-12T00:40:01.847697Z"
    }
   },
   "outputs": [],
   "source": [
    "hf = df_mp_agg_full.rename(columns={'period': 'ds', 'real_wagon_count': 'y'})\n",
    "hf[\n",
    "    [\"rps\", \"holding_name\", \"sender_department_name\", \"recipient_department_name\"]\n",
    "] = hf[\n",
    "    [\"rps\", \"holding_name\", \"sender_department_name\", \"recipient_department_name\"]\n",
    "].astype(str)"
   ]
  },
  {
   "cell_type": "code",
   "execution_count": 19,
   "id": "247e0a2c-c9f7-4a87-b910-c99f9678e149",
   "metadata": {
    "execution": {
     "iopub.execute_input": "2023-11-12T00:39:51.697742Z",
     "iopub.status.busy": "2023-11-12T00:39:51.697283Z",
     "iopub.status.idle": "2023-11-12T00:39:51.730771Z",
     "shell.execute_reply": "2023-11-12T00:39:51.729158Z",
     "shell.execute_reply.started": "2023-11-12T00:39:51.697711Z"
    }
   },
   "outputs": [
    {
     "ename": "NameError",
     "evalue": "name 'SPLIT_DATE' is not defined",
     "output_type": "error",
     "traceback": [
      "\u001b[0;31m---------------------------------------------------------------------------\u001b[0m",
      "\u001b[0;31mNameError\u001b[0m                                 Traceback (most recent call last)",
      "Cell \u001b[0;32mIn[19], line 2\u001b[0m\n\u001b[1;32m      1\u001b[0m \u001b[38;5;66;03m#get train and validation datasets\u001b[39;00m\n\u001b[0;32m----> 2\u001b[0m train \u001b[38;5;241m=\u001b[39m hf\u001b[38;5;241m.\u001b[39mloc[hf[\u001b[38;5;124m'\u001b[39m\u001b[38;5;124mds\u001b[39m\u001b[38;5;124m'\u001b[39m] \u001b[38;5;241m<\u001b[39m\u001b[38;5;241m=\u001b[39m \u001b[43mSPLIT_DATE\u001b[49m]\n\u001b[1;32m      3\u001b[0m valid \u001b[38;5;241m=\u001b[39m hf\u001b[38;5;241m.\u001b[39mloc[hf[\u001b[38;5;124m'\u001b[39m\u001b[38;5;124mds\u001b[39m\u001b[38;5;124m'\u001b[39m] \u001b[38;5;241m>\u001b[39m SPLIT_DATE]\n\u001b[1;32m      4\u001b[0m \u001b[38;5;66;03m#get horizon value\u001b[39;00m\n\u001b[1;32m      5\u001b[0m \u001b[38;5;66;03m# h = valid['ds'].nunique()\u001b[39;00m\n",
      "\u001b[0;31mNameError\u001b[0m: name 'SPLIT_DATE' is not defined"
     ]
    }
   ],
   "source": [
    "#get train and validation datasets\n",
    "train = hf.loc[hf['ds'] <= SPLIT_DATE]\n",
    "valid = hf.loc[hf['ds'] > SPLIT_DATE]\n",
    "#get horizon value\n",
    "# h = valid['ds'].nunique()"
   ]
  },
  {
   "cell_type": "code",
   "execution_count": 22,
   "id": "b7a1dc9a-fc3b-47ba-b0b3-1cb8bef85a7f",
   "metadata": {
    "execution": {
     "iopub.execute_input": "2023-11-12T00:40:11.698536Z",
     "iopub.status.busy": "2023-11-12T00:40:11.698060Z",
     "iopub.status.idle": "2023-11-12T00:40:13.276590Z",
     "shell.execute_reply": "2023-11-12T00:40:13.275491Z",
     "shell.execute_reply.started": "2023-11-12T00:40:11.698503Z"
    }
   },
   "outputs": [],
   "source": [
    "train = hf.copy()"
   ]
  },
  {
   "cell_type": "code",
   "execution_count": 23,
   "id": "1386287e-1700-4241-bea9-f1614179340f",
   "metadata": {
    "execution": {
     "iopub.execute_input": "2023-11-12T00:40:13.279648Z",
     "iopub.status.busy": "2023-11-12T00:40:13.279009Z",
     "iopub.status.idle": "2023-11-12T00:40:13.296819Z",
     "shell.execute_reply": "2023-11-12T00:40:13.295315Z",
     "shell.execute_reply.started": "2023-11-12T00:40:13.279599Z"
    }
   },
   "outputs": [
    {
     "data": {
      "text/html": [
       "<div>\n",
       "<style scoped>\n",
       "    .dataframe tbody tr th:only-of-type {\n",
       "        vertical-align: middle;\n",
       "    }\n",
       "\n",
       "    .dataframe tbody tr th {\n",
       "        vertical-align: top;\n",
       "    }\n",
       "\n",
       "    .dataframe thead th {\n",
       "        text-align: right;\n",
       "    }\n",
       "</style>\n",
       "<table border=\"1\" class=\"dataframe\">\n",
       "  <thead>\n",
       "    <tr style=\"text-align: right;\">\n",
       "      <th></th>\n",
       "      <th>ds</th>\n",
       "      <th>y</th>\n",
       "      <th>rps</th>\n",
       "      <th>holding_name</th>\n",
       "      <th>sender_department_name</th>\n",
       "      <th>recipient_department_name</th>\n",
       "    </tr>\n",
       "  </thead>\n",
       "  <tbody>\n",
       "    <tr>\n",
       "      <th>0</th>\n",
       "      <td>2017-01-01</td>\n",
       "      <td>1</td>\n",
       "      <td>0</td>\n",
       "      <td>10</td>\n",
       "      <td>99</td>\n",
       "      <td>98</td>\n",
       "    </tr>\n",
       "    <tr>\n",
       "      <th>1</th>\n",
       "      <td>2017-01-01</td>\n",
       "      <td>3</td>\n",
       "      <td>0</td>\n",
       "      <td>10</td>\n",
       "      <td>99</td>\n",
       "      <td>99</td>\n",
       "    </tr>\n",
       "    <tr>\n",
       "      <th>2</th>\n",
       "      <td>2017-01-01</td>\n",
       "      <td>4</td>\n",
       "      <td>0</td>\n",
       "      <td>10</td>\n",
       "      <td>99</td>\n",
       "      <td>101</td>\n",
       "    </tr>\n",
       "    <tr>\n",
       "      <th>3</th>\n",
       "      <td>2017-01-01</td>\n",
       "      <td>10</td>\n",
       "      <td>0</td>\n",
       "      <td>10</td>\n",
       "      <td>133</td>\n",
       "      <td>2</td>\n",
       "    </tr>\n",
       "    <tr>\n",
       "      <th>4</th>\n",
       "      <td>2017-01-01</td>\n",
       "      <td>2</td>\n",
       "      <td>0</td>\n",
       "      <td>10</td>\n",
       "      <td>133</td>\n",
       "      <td>3</td>\n",
       "    </tr>\n",
       "    <tr>\n",
       "      <th>...</th>\n",
       "      <td>...</td>\n",
       "      <td>...</td>\n",
       "      <td>...</td>\n",
       "      <td>...</td>\n",
       "      <td>...</td>\n",
       "      <td>...</td>\n",
       "    </tr>\n",
       "    <tr>\n",
       "      <th>4658470</th>\n",
       "      <td>2023-03-01</td>\n",
       "      <td>10</td>\n",
       "      <td>1</td>\n",
       "      <td>2028</td>\n",
       "      <td>161</td>\n",
       "      <td>136</td>\n",
       "    </tr>\n",
       "    <tr>\n",
       "      <th>4658471</th>\n",
       "      <td>2023-03-01</td>\n",
       "      <td>2</td>\n",
       "      <td>1</td>\n",
       "      <td>2071</td>\n",
       "      <td>43</td>\n",
       "      <td>148</td>\n",
       "    </tr>\n",
       "    <tr>\n",
       "      <th>4658472</th>\n",
       "      <td>2023-03-01</td>\n",
       "      <td>164</td>\n",
       "      <td>1</td>\n",
       "      <td>2076</td>\n",
       "      <td>110</td>\n",
       "      <td>110</td>\n",
       "    </tr>\n",
       "    <tr>\n",
       "      <th>4658473</th>\n",
       "      <td>2023-03-01</td>\n",
       "      <td>3</td>\n",
       "      <td>1</td>\n",
       "      <td>2140</td>\n",
       "      <td>55</td>\n",
       "      <td>154</td>\n",
       "    </tr>\n",
       "    <tr>\n",
       "      <th>4658474</th>\n",
       "      <td>2023-03-01</td>\n",
       "      <td>2</td>\n",
       "      <td>1</td>\n",
       "      <td>2189</td>\n",
       "      <td>55</td>\n",
       "      <td>104</td>\n",
       "    </tr>\n",
       "  </tbody>\n",
       "</table>\n",
       "<p>4658475 rows × 6 columns</p>\n",
       "</div>"
      ],
      "text/plain": [
       "                ds    y rps holding_name sender_department_name  \\\n",
       "0       2017-01-01    1   0           10                     99   \n",
       "1       2017-01-01    3   0           10                     99   \n",
       "2       2017-01-01    4   0           10                     99   \n",
       "3       2017-01-01   10   0           10                    133   \n",
       "4       2017-01-01    2   0           10                    133   \n",
       "...            ...  ...  ..          ...                    ...   \n",
       "4658470 2023-03-01   10   1         2028                    161   \n",
       "4658471 2023-03-01    2   1         2071                     43   \n",
       "4658472 2023-03-01  164   1         2076                    110   \n",
       "4658473 2023-03-01    3   1         2140                     55   \n",
       "4658474 2023-03-01    2   1         2189                     55   \n",
       "\n",
       "        recipient_department_name  \n",
       "0                              98  \n",
       "1                              99  \n",
       "2                             101  \n",
       "3                               2  \n",
       "4                               3  \n",
       "...                           ...  \n",
       "4658470                       136  \n",
       "4658471                       148  \n",
       "4658472                       110  \n",
       "4658473                       154  \n",
       "4658474                       104  \n",
       "\n",
       "[4658475 rows x 6 columns]"
      ]
     },
     "execution_count": 23,
     "metadata": {},
     "output_type": "execute_result"
    }
   ],
   "source": [
    "train"
   ]
  },
  {
   "cell_type": "code",
   "execution_count": 24,
   "id": "29486bb8-c5b0-45bb-a74d-350c678ce12c",
   "metadata": {
    "execution": {
     "iopub.execute_input": "2023-11-12T00:40:16.139776Z",
     "iopub.status.busy": "2023-11-12T00:40:16.138815Z",
     "iopub.status.idle": "2023-11-12T00:40:16.146232Z",
     "shell.execute_reply": "2023-11-12T00:40:16.144486Z",
     "shell.execute_reply.started": "2023-11-12T00:40:16.139720Z"
    }
   },
   "outputs": [],
   "source": [
    "#create a list of the columns that represent the different levels of the hierarchy\n",
    "spec = [\n",
    "    ['rps'],\n",
    "    ['rps', 'holding_name'],\n",
    "    ['rps', 'holding_name', 'sender_department_name'],\n",
    "    ['rps', 'holding_name', 'sender_department_name', 'recipient_department_name']\n",
    "]"
   ]
  },
  {
   "cell_type": "code",
   "execution_count": 25,
   "id": "3ea49586-435a-4074-b70b-d87730395c5c",
   "metadata": {
    "execution": {
     "iopub.execute_input": "2023-11-12T00:40:16.530120Z",
     "iopub.status.busy": "2023-11-12T00:40:16.529477Z",
     "iopub.status.idle": "2023-11-12T00:40:37.147432Z",
     "shell.execute_reply": "2023-11-12T00:40:37.145974Z",
     "shell.execute_reply.started": "2023-11-12T00:40:16.530089Z"
    }
   },
   "outputs": [],
   "source": [
    "# Split the data into different levels\n",
    "train_agg, S_train, tags = aggregate(train, spec)\n",
    "# valid_agg, _, _ = aggregate(valid, spec)"
   ]
  },
  {
   "cell_type": "code",
   "execution_count": 26,
   "id": "864cb0ae-246f-4a56-aea2-0c838ba28282",
   "metadata": {
    "execution": {
     "iopub.execute_input": "2023-11-12T00:40:47.716710Z",
     "iopub.status.busy": "2023-11-12T00:40:47.716257Z",
     "iopub.status.idle": "2023-11-12T00:40:47.722909Z",
     "shell.execute_reply": "2023-11-12T00:40:47.720951Z",
     "shell.execute_reply.started": "2023-11-12T00:40:47.716679Z"
    }
   },
   "outputs": [],
   "source": [
    "@njit\n",
    "def rolling_mean_3(x):\n",
    "    return rolling_mean(x, window_size=3)"
   ]
  },
  {
   "cell_type": "markdown",
   "id": "3cead11f-02c3-40ad-92ec-b841f1ae4e89",
   "metadata": {},
   "source": [
    "## ML models"
   ]
  },
  {
   "cell_type": "code",
   "execution_count": 27,
   "id": "7fd47ac7-700c-42f2-9d2a-6018bc89851b",
   "metadata": {
    "execution": {
     "iopub.execute_input": "2023-11-12T00:40:50.060168Z",
     "iopub.status.busy": "2023-11-12T00:40:50.059628Z",
     "iopub.status.idle": "2023-11-12T00:48:05.079100Z",
     "shell.execute_reply": "2023-11-12T00:48:05.077575Z",
     "shell.execute_reply.started": "2023-11-12T00:40:50.060138Z"
    }
   },
   "outputs": [
    {
     "data": {
      "text/plain": [
       "MLForecast(models=[LGBMRegressor, XGBRegressor, RandomForestRegressor], freq=<MonthBegin>, lag_features=['lag1', 'lag2', 'rolling_mean_3_lag2'], date_features=[], num_threads=1)"
      ]
     },
     "execution_count": 27,
     "metadata": {},
     "output_type": "execute_result"
    }
   ],
   "source": [
    "mlf_models = [\n",
    "    lgb.LGBMRegressor(verbosity=-1),\n",
    "    xgb.XGBRegressor(),\n",
    "    RandomForestRegressor(random_state=0),\n",
    "]\n",
    "\n",
    "mlf = MLForecast(\n",
    "    models=mlf_models,\n",
    "    freq='MS',\n",
    "    lag_transforms={\n",
    "        2: [expanding_mean],\n",
    "        2: [rolling_mean_3]\n",
    "    },\n",
    "    lags=[1, 2]\n",
    ")\n",
    "\n",
    "mlf.fit(df=train_agg.reset_index())"
   ]
  },
  {
   "cell_type": "code",
   "execution_count": 28,
   "id": "09983529-4c7f-465c-9a63-d623924cadd0",
   "metadata": {
    "execution": {
     "iopub.execute_input": "2023-11-12T00:48:36.608433Z",
     "iopub.status.busy": "2023-11-12T00:48:36.607935Z",
     "iopub.status.idle": "2023-11-12T00:48:43.487381Z",
     "shell.execute_reply": "2023-11-12T00:48:43.486121Z",
     "shell.execute_reply.started": "2023-11-12T00:48:36.608400Z"
    }
   },
   "outputs": [],
   "source": [
    "# Generate predictions.\n",
    "base_forecast_df = mlf.predict(5)"
   ]
  },
  {
   "cell_type": "code",
   "execution_count": 30,
   "id": "14e5a605-c7b7-4d22-9d38-c918e95de102",
   "metadata": {
    "execution": {
     "iopub.execute_input": "2023-11-12T00:24:31.065191Z",
     "iopub.status.busy": "2023-11-12T00:24:31.064830Z",
     "iopub.status.idle": "2023-11-12T00:24:31.442986Z",
     "shell.execute_reply": "2023-11-12T00:24:31.441779Z",
     "shell.execute_reply.started": "2023-11-12T00:24:31.065168Z"
    }
   },
   "outputs": [
    {
     "name": "stdout",
     "output_type": "stream",
     "text": [
      "LGBMRegressor: 2.3175828771954503\n",
      "XGBRegressor: 2.595827261500487\n",
      "RandomForestRegressor: 2.5959406283036093\n"
     ]
    }
   ],
   "source": [
    "# Forecast validation.\n",
    "res = valid_agg.reset_index().merge(base_forecast_df, how='left', on=['unique_id', 'ds']).fillna(0)\n",
    "model_cols = [col for col in base_forecast_df.columns if col not in ['unique_id', 'ds']]\n",
    "for col in model_cols:\n",
    "    print(\n",
    "        f\"{col}: {mean_squared_error(res['y'], res[col], squared=False)/1e3}\")"
   ]
  },
  {
   "cell_type": "code",
   "execution_count": 31,
   "id": "a04049f2-7bcb-4949-9533-47aaedfb92e6",
   "metadata": {
    "execution": {
     "iopub.execute_input": "2023-11-12T00:24:46.005698Z",
     "iopub.status.busy": "2023-11-12T00:24:46.005100Z",
     "iopub.status.idle": "2023-11-12T00:24:46.010518Z",
     "shell.execute_reply": "2023-11-12T00:24:46.009255Z",
     "shell.execute_reply.started": "2023-11-12T00:24:46.005660Z"
    }
   },
   "outputs": [],
   "source": [
    "# reconcilers = [\n",
    "#     BottomUp(),\n",
    "#     # MinTrace('ols')\n",
    "# ]\n",
    "# hrec = HierarchicalReconciliation(reconcilers=reconcilers)\n",
    "# Y_rec_mf = hrec.reconcile(Y_hat_df=base_forecast_df.set_index('unique_id'), Y_df = train_agg, S=S_train, tags=tags)"
   ]
  },
  {
   "cell_type": "code",
   "execution_count": 29,
   "id": "4fdbbc1c-3bd3-4b06-bd14-d717c527cb79",
   "metadata": {
    "execution": {
     "iopub.execute_input": "2023-11-12T00:48:48.006546Z",
     "iopub.status.busy": "2023-11-12T00:48:48.006119Z",
     "iopub.status.idle": "2023-11-12T00:48:50.402534Z",
     "shell.execute_reply": "2023-11-12T00:48:50.401561Z",
     "shell.execute_reply.started": "2023-11-12T00:48:48.006518Z"
    }
   },
   "outputs": [],
   "source": [
    "answer = base_forecast_df.copy()\n",
    "answer[accuracy_granularity[1:]] = (\n",
    "    answer['unique_id']\n",
    "    .str\n",
    "    .split('/', n=len(accuracy_granularity[1:]), expand=True)\n",
    ")\n",
    "answer = answer.dropna().reset_index(drop=True)"
   ]
  },
  {
   "cell_type": "code",
   "execution_count": 30,
   "id": "389df753-8fd0-4d17-ad29-ea7a31a9f33f",
   "metadata": {
    "execution": {
     "iopub.execute_input": "2023-11-12T00:48:52.372868Z",
     "iopub.status.busy": "2023-11-12T00:48:52.372210Z",
     "iopub.status.idle": "2023-11-12T00:48:52.387309Z",
     "shell.execute_reply": "2023-11-12T00:48:52.386527Z",
     "shell.execute_reply.started": "2023-11-12T00:48:52.372839Z"
    }
   },
   "outputs": [
    {
     "data": {
      "text/html": [
       "<div>\n",
       "<style scoped>\n",
       "    .dataframe tbody tr th:only-of-type {\n",
       "        vertical-align: middle;\n",
       "    }\n",
       "\n",
       "    .dataframe tbody tr th {\n",
       "        vertical-align: top;\n",
       "    }\n",
       "\n",
       "    .dataframe thead th {\n",
       "        text-align: right;\n",
       "    }\n",
       "</style>\n",
       "<table border=\"1\" class=\"dataframe\">\n",
       "  <thead>\n",
       "    <tr style=\"text-align: right;\">\n",
       "      <th></th>\n",
       "      <th>unique_id</th>\n",
       "      <th>ds</th>\n",
       "      <th>LGBMRegressor</th>\n",
       "      <th>XGBRegressor</th>\n",
       "      <th>RandomForestRegressor</th>\n",
       "      <th>rps</th>\n",
       "      <th>holding_name</th>\n",
       "      <th>sender_department_name</th>\n",
       "      <th>recipient_department_name</th>\n",
       "    </tr>\n",
       "  </thead>\n",
       "  <tbody>\n",
       "    <tr>\n",
       "      <th>0</th>\n",
       "      <td>0/10/133/1</td>\n",
       "      <td>2023-04-01</td>\n",
       "      <td>0.419614</td>\n",
       "      <td>0.589790</td>\n",
       "      <td>0.578435</td>\n",
       "      <td>0</td>\n",
       "      <td>10</td>\n",
       "      <td>133</td>\n",
       "      <td>1</td>\n",
       "    </tr>\n",
       "    <tr>\n",
       "      <th>1</th>\n",
       "      <td>0/10/133/1</td>\n",
       "      <td>2023-05-01</td>\n",
       "      <td>0.766676</td>\n",
       "      <td>0.589790</td>\n",
       "      <td>0.937090</td>\n",
       "      <td>0</td>\n",
       "      <td>10</td>\n",
       "      <td>133</td>\n",
       "      <td>1</td>\n",
       "    </tr>\n",
       "    <tr>\n",
       "      <th>2</th>\n",
       "      <td>0/10/133/1</td>\n",
       "      <td>2023-06-01</td>\n",
       "      <td>0.766676</td>\n",
       "      <td>0.589790</td>\n",
       "      <td>0.809849</td>\n",
       "      <td>0</td>\n",
       "      <td>10</td>\n",
       "      <td>133</td>\n",
       "      <td>1</td>\n",
       "    </tr>\n",
       "    <tr>\n",
       "      <th>3</th>\n",
       "      <td>0/10/133/1</td>\n",
       "      <td>2023-07-01</td>\n",
       "      <td>0.766676</td>\n",
       "      <td>0.589790</td>\n",
       "      <td>0.809849</td>\n",
       "      <td>0</td>\n",
       "      <td>10</td>\n",
       "      <td>133</td>\n",
       "      <td>1</td>\n",
       "    </tr>\n",
       "    <tr>\n",
       "      <th>4</th>\n",
       "      <td>0/10/133/1</td>\n",
       "      <td>2023-08-01</td>\n",
       "      <td>0.859948</td>\n",
       "      <td>0.378985</td>\n",
       "      <td>0.809849</td>\n",
       "      <td>0</td>\n",
       "      <td>10</td>\n",
       "      <td>133</td>\n",
       "      <td>1</td>\n",
       "    </tr>\n",
       "  </tbody>\n",
       "</table>\n",
       "</div>"
      ],
      "text/plain": [
       "    unique_id         ds  LGBMRegressor  XGBRegressor  RandomForestRegressor  \\\n",
       "0  0/10/133/1 2023-04-01       0.419614      0.589790               0.578435   \n",
       "1  0/10/133/1 2023-05-01       0.766676      0.589790               0.937090   \n",
       "2  0/10/133/1 2023-06-01       0.766676      0.589790               0.809849   \n",
       "3  0/10/133/1 2023-07-01       0.766676      0.589790               0.809849   \n",
       "4  0/10/133/1 2023-08-01       0.859948      0.378985               0.809849   \n",
       "\n",
       "  rps holding_name sender_department_name recipient_department_name  \n",
       "0   0           10                    133                         1  \n",
       "1   0           10                    133                         1  \n",
       "2   0           10                    133                         1  \n",
       "3   0           10                    133                         1  \n",
       "4   0           10                    133                         1  "
      ]
     },
     "execution_count": 30,
     "metadata": {},
     "output_type": "execute_result"
    }
   ],
   "source": [
    "answer.head()"
   ]
  },
  {
   "cell_type": "code",
   "execution_count": null,
   "id": "98838c89-1e40-4828-a000-6114106b961d",
   "metadata": {},
   "outputs": [],
   "source": []
  },
  {
   "cell_type": "code",
   "execution_count": null,
   "id": "81047986-2116-42c4-9cc0-71ff92fb1ed2",
   "metadata": {},
   "outputs": [],
   "source": []
  },
  {
   "cell_type": "code",
   "execution_count": 31,
   "id": "5e6c2aa6-d490-436e-9a3c-a8de633a4b30",
   "metadata": {
    "execution": {
     "iopub.execute_input": "2023-11-12T00:49:05.991801Z",
     "iopub.status.busy": "2023-11-12T00:49:05.991071Z",
     "iopub.status.idle": "2023-11-12T00:49:06.154597Z",
     "shell.execute_reply": "2023-11-12T00:49:06.153590Z",
     "shell.execute_reply.started": "2023-11-12T00:49:05.991769Z"
    }
   },
   "outputs": [],
   "source": [
    "df_mp_uid_full = (\n",
    "    df_mp_uid[\n",
    "    (df_mp_uid['period'] >= '2023-01-01') \n",
    "    & (df_mp_uid.client_sap_id != -1)]\n",
    "    .reset_index(drop=True)\n",
    "    .rename(columns={'unique_ts': 'unique_ts_full'})\n",
    ")\n",
    "df_mp_uid_full.holding_name = df_mp_uid_full.holding_name.astype(np.int64)"
   ]
  },
  {
   "cell_type": "code",
   "execution_count": 32,
   "id": "9a9671bb-ab99-44b5-8397-55ee9927fb59",
   "metadata": {
    "execution": {
     "iopub.execute_input": "2023-11-12T00:49:07.389679Z",
     "iopub.status.busy": "2023-11-12T00:49:07.389210Z",
     "iopub.status.idle": "2023-11-12T00:49:07.472926Z",
     "shell.execute_reply": "2023-11-12T00:49:07.472076Z",
     "shell.execute_reply.started": "2023-11-12T00:49:07.389626Z"
    }
   },
   "outputs": [],
   "source": [
    "df_mp_uid_2 = get_unique_id(df=df_mp_uid_full, uid=accuracy_granularity[1:])"
   ]
  },
  {
   "cell_type": "code",
   "execution_count": 33,
   "id": "8ce8dab5-3c49-468a-9e6a-eea0741b4397",
   "metadata": {
    "execution": {
     "iopub.execute_input": "2023-11-12T00:49:07.978999Z",
     "iopub.status.busy": "2023-11-12T00:49:07.978350Z",
     "iopub.status.idle": "2023-11-12T00:49:08.126084Z",
     "shell.execute_reply": "2023-11-12T00:49:08.125360Z",
     "shell.execute_reply.started": "2023-11-12T00:49:07.978955Z"
    }
   },
   "outputs": [],
   "source": [
    "df_calc = df_mp_uid_2.groupby(['unique_ts', 'unique_ts_full']).unique_ts_full.count().to_frame().rename(columns={'unique_ts_full': 'count'}).reset_index()"
   ]
  },
  {
   "cell_type": "code",
   "execution_count": 34,
   "id": "8a20e785-b837-4358-afe7-e697c441f431",
   "metadata": {
    "execution": {
     "iopub.execute_input": "2023-11-12T00:49:08.744178Z",
     "iopub.status.busy": "2023-11-12T00:49:08.743641Z",
     "iopub.status.idle": "2023-11-12T00:49:08.770337Z",
     "shell.execute_reply": "2023-11-12T00:49:08.769428Z",
     "shell.execute_reply.started": "2023-11-12T00:49:08.744132Z"
    }
   },
   "outputs": [],
   "source": [
    "df_calc['tot_count'] = df_calc.groupby('unique_ts')['count'].transform('sum')"
   ]
  },
  {
   "cell_type": "code",
   "execution_count": 35,
   "id": "4176ce6e-ff7d-4f6d-b40d-b91e8e33215c",
   "metadata": {
    "execution": {
     "iopub.execute_input": "2023-11-12T00:49:09.262643Z",
     "iopub.status.busy": "2023-11-12T00:49:09.261767Z",
     "iopub.status.idle": "2023-11-12T00:49:09.271317Z",
     "shell.execute_reply": "2023-11-12T00:49:09.270427Z",
     "shell.execute_reply.started": "2023-11-12T00:49:09.262594Z"
    }
   },
   "outputs": [],
   "source": [
    "df_calc['perc'] = df_calc['count']/df_calc['tot_count']"
   ]
  },
  {
   "cell_type": "code",
   "execution_count": 36,
   "id": "c5e88a35-4d83-4617-93e4-763bff8af7e3",
   "metadata": {
    "execution": {
     "iopub.execute_input": "2023-11-12T00:49:09.962956Z",
     "iopub.status.busy": "2023-11-12T00:49:09.962552Z",
     "iopub.status.idle": "2023-11-12T00:49:09.974403Z",
     "shell.execute_reply": "2023-11-12T00:49:09.973557Z",
     "shell.execute_reply.started": "2023-11-12T00:49:09.962930Z"
    }
   },
   "outputs": [
    {
     "data": {
      "text/html": [
       "<div>\n",
       "<style scoped>\n",
       "    .dataframe tbody tr th:only-of-type {\n",
       "        vertical-align: middle;\n",
       "    }\n",
       "\n",
       "    .dataframe tbody tr th {\n",
       "        vertical-align: top;\n",
       "    }\n",
       "\n",
       "    .dataframe thead th {\n",
       "        text-align: right;\n",
       "    }\n",
       "</style>\n",
       "<table border=\"1\" class=\"dataframe\">\n",
       "  <thead>\n",
       "    <tr style=\"text-align: right;\">\n",
       "      <th></th>\n",
       "      <th>unique_ts</th>\n",
       "      <th>unique_ts_full</th>\n",
       "      <th>count</th>\n",
       "      <th>tot_count</th>\n",
       "      <th>perc</th>\n",
       "    </tr>\n",
       "  </thead>\n",
       "  <tbody>\n",
       "    <tr>\n",
       "      <th>0</th>\n",
       "      <td>0_1001_86_43</td>\n",
       "      <td>0_1_2_383_1087_26726_33095_27539</td>\n",
       "      <td>1</td>\n",
       "      <td>1</td>\n",
       "      <td>1.0</td>\n",
       "    </tr>\n",
       "    <tr>\n",
       "      <th>1</th>\n",
       "      <td>0_1001_86_75</td>\n",
       "      <td>0_0_1_383_1087_26726_12872_27539</td>\n",
       "      <td>1</td>\n",
       "      <td>1</td>\n",
       "      <td>1.0</td>\n",
       "    </tr>\n",
       "    <tr>\n",
       "      <th>2</th>\n",
       "      <td>0_1001_86_9</td>\n",
       "      <td>0_0_1_383_1087_26726_35100_27539</td>\n",
       "      <td>1</td>\n",
       "      <td>1</td>\n",
       "      <td>1.0</td>\n",
       "    </tr>\n",
       "    <tr>\n",
       "      <th>3</th>\n",
       "      <td>0_1001_86_97</td>\n",
       "      <td>0_0_1_383_1087_26726_11053_27539</td>\n",
       "      <td>1</td>\n",
       "      <td>1</td>\n",
       "      <td>1.0</td>\n",
       "    </tr>\n",
       "    <tr>\n",
       "      <th>4</th>\n",
       "      <td>0_1003_8_136</td>\n",
       "      <td>0_0_1_1795_3297_36446_38316_28073</td>\n",
       "      <td>1</td>\n",
       "      <td>1</td>\n",
       "      <td>1.0</td>\n",
       "    </tr>\n",
       "  </tbody>\n",
       "</table>\n",
       "</div>"
      ],
      "text/plain": [
       "      unique_ts                     unique_ts_full  count  tot_count  perc\n",
       "0  0_1001_86_43   0_1_2_383_1087_26726_33095_27539      1          1   1.0\n",
       "1  0_1001_86_75   0_0_1_383_1087_26726_12872_27539      1          1   1.0\n",
       "2   0_1001_86_9   0_0_1_383_1087_26726_35100_27539      1          1   1.0\n",
       "3  0_1001_86_97   0_0_1_383_1087_26726_11053_27539      1          1   1.0\n",
       "4  0_1003_8_136  0_0_1_1795_3297_36446_38316_28073      1          1   1.0"
      ]
     },
     "execution_count": 36,
     "metadata": {},
     "output_type": "execute_result"
    }
   ],
   "source": [
    "df_calc.head()"
   ]
  },
  {
   "cell_type": "code",
   "execution_count": 37,
   "id": "be8fe8f3-6ba0-4915-897c-ea7b9a3df149",
   "metadata": {
    "execution": {
     "iopub.execute_input": "2023-11-12T00:49:12.472130Z",
     "iopub.status.busy": "2023-11-12T00:49:12.471697Z",
     "iopub.status.idle": "2023-11-12T00:49:12.675287Z",
     "shell.execute_reply": "2023-11-12T00:49:12.674347Z",
     "shell.execute_reply.started": "2023-11-12T00:49:12.472101Z"
    }
   },
   "outputs": [],
   "source": [
    "df_calc[accuracy_granularity[1:]] = (\n",
    "    df_calc['unique_ts']\n",
    "    .str\n",
    "    .split('_', n=len(accuracy_granularity[1:]), expand=True)\n",
    ")"
   ]
  },
  {
   "cell_type": "code",
   "execution_count": 38,
   "id": "ea1f7b1e-14d4-4a03-be7b-0cde97eb7915",
   "metadata": {
    "execution": {
     "iopub.execute_input": "2023-11-12T00:49:14.414371Z",
     "iopub.status.busy": "2023-11-12T00:49:14.413983Z",
     "iopub.status.idle": "2023-11-12T00:49:15.361291Z",
     "shell.execute_reply": "2023-11-12T00:49:15.360291Z",
     "shell.execute_reply.started": "2023-11-12T00:49:14.414346Z"
    }
   },
   "outputs": [],
   "source": [
    "sub_answer = answer.merge(df_calc[\n",
    "    ['rps', 'holding_name', 'sender_department_name', 'recipient_department_name', 'perc', 'unique_ts_full']\n",
    "], how='left', on=['rps', 'holding_name', 'sender_department_name', 'recipient_department_name']\n",
    ").dropna().reset_index(drop=True)"
   ]
  },
  {
   "cell_type": "code",
   "execution_count": 39,
   "id": "06fe4cd8-aae1-4958-afea-94a53f45a6ac",
   "metadata": {
    "execution": {
     "iopub.execute_input": "2023-11-12T00:49:15.364173Z",
     "iopub.status.busy": "2023-11-12T00:49:15.363692Z",
     "iopub.status.idle": "2023-11-12T00:49:15.382750Z",
     "shell.execute_reply": "2023-11-12T00:49:15.381141Z",
     "shell.execute_reply.started": "2023-11-12T00:49:15.364145Z"
    }
   },
   "outputs": [
    {
     "data": {
      "text/html": [
       "<div>\n",
       "<style scoped>\n",
       "    .dataframe tbody tr th:only-of-type {\n",
       "        vertical-align: middle;\n",
       "    }\n",
       "\n",
       "    .dataframe tbody tr th {\n",
       "        vertical-align: top;\n",
       "    }\n",
       "\n",
       "    .dataframe thead th {\n",
       "        text-align: right;\n",
       "    }\n",
       "</style>\n",
       "<table border=\"1\" class=\"dataframe\">\n",
       "  <thead>\n",
       "    <tr style=\"text-align: right;\">\n",
       "      <th></th>\n",
       "      <th>unique_id</th>\n",
       "      <th>ds</th>\n",
       "      <th>LGBMRegressor</th>\n",
       "      <th>XGBRegressor</th>\n",
       "      <th>RandomForestRegressor</th>\n",
       "      <th>rps</th>\n",
       "      <th>holding_name</th>\n",
       "      <th>sender_department_name</th>\n",
       "      <th>recipient_department_name</th>\n",
       "      <th>perc</th>\n",
       "      <th>unique_ts_full</th>\n",
       "    </tr>\n",
       "  </thead>\n",
       "  <tbody>\n",
       "    <tr>\n",
       "      <th>0</th>\n",
       "      <td>0/1001/86/43</td>\n",
       "      <td>2023-04-01</td>\n",
       "      <td>0.419614</td>\n",
       "      <td>0.589790</td>\n",
       "      <td>0.578435</td>\n",
       "      <td>0</td>\n",
       "      <td>1001</td>\n",
       "      <td>86</td>\n",
       "      <td>43</td>\n",
       "      <td>1.0</td>\n",
       "      <td>0_1_2_383_1087_26726_33095_27539</td>\n",
       "    </tr>\n",
       "    <tr>\n",
       "      <th>1</th>\n",
       "      <td>0/1001/86/43</td>\n",
       "      <td>2023-05-01</td>\n",
       "      <td>0.766676</td>\n",
       "      <td>0.589790</td>\n",
       "      <td>0.937090</td>\n",
       "      <td>0</td>\n",
       "      <td>1001</td>\n",
       "      <td>86</td>\n",
       "      <td>43</td>\n",
       "      <td>1.0</td>\n",
       "      <td>0_1_2_383_1087_26726_33095_27539</td>\n",
       "    </tr>\n",
       "    <tr>\n",
       "      <th>2</th>\n",
       "      <td>0/1001/86/43</td>\n",
       "      <td>2023-06-01</td>\n",
       "      <td>0.766676</td>\n",
       "      <td>0.589790</td>\n",
       "      <td>0.809849</td>\n",
       "      <td>0</td>\n",
       "      <td>1001</td>\n",
       "      <td>86</td>\n",
       "      <td>43</td>\n",
       "      <td>1.0</td>\n",
       "      <td>0_1_2_383_1087_26726_33095_27539</td>\n",
       "    </tr>\n",
       "    <tr>\n",
       "      <th>3</th>\n",
       "      <td>0/1001/86/43</td>\n",
       "      <td>2023-07-01</td>\n",
       "      <td>0.766676</td>\n",
       "      <td>0.589790</td>\n",
       "      <td>0.809849</td>\n",
       "      <td>0</td>\n",
       "      <td>1001</td>\n",
       "      <td>86</td>\n",
       "      <td>43</td>\n",
       "      <td>1.0</td>\n",
       "      <td>0_1_2_383_1087_26726_33095_27539</td>\n",
       "    </tr>\n",
       "    <tr>\n",
       "      <th>4</th>\n",
       "      <td>0/1001/86/43</td>\n",
       "      <td>2023-08-01</td>\n",
       "      <td>0.859948</td>\n",
       "      <td>0.378985</td>\n",
       "      <td>0.809849</td>\n",
       "      <td>0</td>\n",
       "      <td>1001</td>\n",
       "      <td>86</td>\n",
       "      <td>43</td>\n",
       "      <td>1.0</td>\n",
       "      <td>0_1_2_383_1087_26726_33095_27539</td>\n",
       "    </tr>\n",
       "  </tbody>\n",
       "</table>\n",
       "</div>"
      ],
      "text/plain": [
       "      unique_id         ds  LGBMRegressor  XGBRegressor  \\\n",
       "0  0/1001/86/43 2023-04-01       0.419614      0.589790   \n",
       "1  0/1001/86/43 2023-05-01       0.766676      0.589790   \n",
       "2  0/1001/86/43 2023-06-01       0.766676      0.589790   \n",
       "3  0/1001/86/43 2023-07-01       0.766676      0.589790   \n",
       "4  0/1001/86/43 2023-08-01       0.859948      0.378985   \n",
       "\n",
       "   RandomForestRegressor rps holding_name sender_department_name  \\\n",
       "0               0.578435   0         1001                     86   \n",
       "1               0.937090   0         1001                     86   \n",
       "2               0.809849   0         1001                     86   \n",
       "3               0.809849   0         1001                     86   \n",
       "4               0.809849   0         1001                     86   \n",
       "\n",
       "  recipient_department_name  perc                    unique_ts_full  \n",
       "0                        43   1.0  0_1_2_383_1087_26726_33095_27539  \n",
       "1                        43   1.0  0_1_2_383_1087_26726_33095_27539  \n",
       "2                        43   1.0  0_1_2_383_1087_26726_33095_27539  \n",
       "3                        43   1.0  0_1_2_383_1087_26726_33095_27539  \n",
       "4                        43   1.0  0_1_2_383_1087_26726_33095_27539  "
      ]
     },
     "execution_count": 39,
     "metadata": {},
     "output_type": "execute_result"
    }
   ],
   "source": [
    "sub_answer.head()"
   ]
  },
  {
   "cell_type": "code",
   "execution_count": 40,
   "id": "c2f60c8e-6ade-489d-bc33-f155d5ef0ee8",
   "metadata": {
    "execution": {
     "iopub.execute_input": "2023-11-12T00:49:26.824141Z",
     "iopub.status.busy": "2023-11-12T00:49:26.823692Z",
     "iopub.status.idle": "2023-11-12T00:49:26.833797Z",
     "shell.execute_reply": "2023-11-12T00:49:26.832727Z",
     "shell.execute_reply.started": "2023-11-12T00:49:26.824107Z"
    }
   },
   "outputs": [],
   "source": [
    "sub_answer_lgb = sub_answer[['ds', 'LGBMRegressor', 'perc', 'unique_ts_full']]"
   ]
  },
  {
   "cell_type": "code",
   "execution_count": 41,
   "id": "e928a469-0cfe-4a55-9c43-061ba15666ed",
   "metadata": {
    "execution": {
     "iopub.execute_input": "2023-11-12T00:49:27.296763Z",
     "iopub.status.busy": "2023-11-12T00:49:27.296003Z",
     "iopub.status.idle": "2023-11-12T00:49:27.310624Z",
     "shell.execute_reply": "2023-11-12T00:49:27.309286Z",
     "shell.execute_reply.started": "2023-11-12T00:49:27.296717Z"
    }
   },
   "outputs": [],
   "source": [
    "sub_answer_lgb['forecast_wagon_count'] = sub_answer_lgb['LGBMRegressor'] * sub_answer_lgb['perc']\n",
    "sub_answer_lgb['forecast_wagon_count'] = sub_answer_lgb['forecast_wagon_count'].round().astype(np.int64)"
   ]
  },
  {
   "cell_type": "code",
   "execution_count": 42,
   "id": "fe706e22-64bc-4af4-bc16-14071ba1b4ef",
   "metadata": {
    "execution": {
     "iopub.execute_input": "2023-11-12T00:49:27.807388Z",
     "iopub.status.busy": "2023-11-12T00:49:27.806951Z",
     "iopub.status.idle": "2023-11-12T00:49:27.830484Z",
     "shell.execute_reply": "2023-11-12T00:49:27.829296Z",
     "shell.execute_reply.started": "2023-11-12T00:49:27.807360Z"
    }
   },
   "outputs": [],
   "source": [
    "sub_answer_lgb = sub_answer_lgb.rename(columns={'ds': 'period'}).drop(columns=['LGBMRegressor', 'perc'])"
   ]
  },
  {
   "cell_type": "code",
   "execution_count": 43,
   "id": "3cc45550-d445-4081-b27f-7ec6155960ce",
   "metadata": {
    "execution": {
     "iopub.execute_input": "2023-11-12T00:49:29.692803Z",
     "iopub.status.busy": "2023-11-12T00:49:29.692050Z",
     "iopub.status.idle": "2023-11-12T00:49:31.614757Z",
     "shell.execute_reply": "2023-11-12T00:49:31.613844Z",
     "shell.execute_reply.started": "2023-11-12T00:49:29.692772Z"
    }
   },
   "outputs": [],
   "source": [
    "sub_answer_lgb[uid] = (\n",
    "    sub_answer_lgb['unique_ts_full']\n",
    "    .str\n",
    "    .split('_', n=len(uid), expand=True)\n",
    ")"
   ]
  },
  {
   "cell_type": "code",
   "execution_count": 44,
   "id": "0087e4c6-bbc2-4f4d-afc2-119f729f2746",
   "metadata": {
    "execution": {
     "iopub.execute_input": "2023-11-12T00:49:31.617296Z",
     "iopub.status.busy": "2023-11-12T00:49:31.616749Z",
     "iopub.status.idle": "2023-11-12T00:49:31.990009Z",
     "shell.execute_reply": "2023-11-12T00:49:31.988946Z",
     "shell.execute_reply.started": "2023-11-12T00:49:31.617262Z"
    }
   },
   "outputs": [],
   "source": [
    "sub_answer_lgb = sub_answer_lgb.drop(columns=['unique_ts_full'])[['period'] + uid + ['forecast_wagon_count']]"
   ]
  },
  {
   "cell_type": "code",
   "execution_count": 45,
   "id": "80a8893a-966e-4623-aad7-d74c587ce361",
   "metadata": {
    "execution": {
     "iopub.execute_input": "2023-11-12T00:49:31.991755Z",
     "iopub.status.busy": "2023-11-12T00:49:31.991178Z",
     "iopub.status.idle": "2023-11-12T00:49:32.001436Z",
     "shell.execute_reply": "2023-11-12T00:49:31.999601Z",
     "shell.execute_reply.started": "2023-11-12T00:49:31.991727Z"
    }
   },
   "outputs": [],
   "source": [
    "sub_answer_lgb['forecast_weight'] = sub_answer_lgb['forecast_wagon_count']*60"
   ]
  },
  {
   "cell_type": "code",
   "execution_count": 48,
   "id": "53b8ae52-36cb-4a5e-843e-54531f8304b7",
   "metadata": {
    "execution": {
     "iopub.execute_input": "2023-11-12T00:53:44.421481Z",
     "iopub.status.busy": "2023-11-12T00:53:44.420946Z",
     "iopub.status.idle": "2023-11-12T00:53:44.429783Z",
     "shell.execute_reply": "2023-11-12T00:53:44.428896Z",
     "shell.execute_reply.started": "2023-11-12T00:53:44.421448Z"
    }
   },
   "outputs": [],
   "source": [
    "sub_answer_lgb['forecast_weight'] = sub_answer_lgb['forecast_weight'].astype(np.float64)"
   ]
  },
  {
   "cell_type": "code",
   "execution_count": 51,
   "id": "0c09822a-d933-4f53-b37f-ccd6ecaedb04",
   "metadata": {
    "execution": {
     "iopub.execute_input": "2023-11-12T00:54:17.867155Z",
     "iopub.status.busy": "2023-11-12T00:54:17.866612Z",
     "iopub.status.idle": "2023-11-12T00:54:17.873648Z",
     "shell.execute_reply": "2023-11-12T00:54:17.871474Z",
     "shell.execute_reply.started": "2023-11-12T00:54:17.867118Z"
    }
   },
   "outputs": [],
   "source": [
    "right_order = [\n",
    "    'period',\n",
    "    'rps',\n",
    "    'podrod',\n",
    "    'filial',\n",
    "    'client_sap_id',\n",
    "    'freight_id',\n",
    "    'sender_station_id',\n",
    "    'recipient_station_id',\n",
    "    'sender_organisation_id',\n",
    "    'forecast_weight',\n",
    "    'forecast_wagon_count'\n",
    "]"
   ]
  },
  {
   "cell_type": "code",
   "execution_count": 52,
   "id": "6700cf38-6691-495d-a389-ebd89d562195",
   "metadata": {
    "execution": {
     "iopub.execute_input": "2023-11-12T00:54:18.227568Z",
     "iopub.status.busy": "2023-11-12T00:54:18.227113Z",
     "iopub.status.idle": "2023-11-12T00:54:18.325701Z",
     "shell.execute_reply": "2023-11-12T00:54:18.324537Z",
     "shell.execute_reply.started": "2023-11-12T00:54:18.227538Z"
    }
   },
   "outputs": [],
   "source": [
    "sub_answer_lgb = sub_answer_lgb[right_order]"
   ]
  },
  {
   "cell_type": "code",
   "execution_count": 54,
   "id": "513577b1-2691-4319-8447-78bd4f20f675",
   "metadata": {
    "execution": {
     "iopub.execute_input": "2023-11-12T00:54:38.724043Z",
     "iopub.status.busy": "2023-11-12T00:54:38.723614Z",
     "iopub.status.idle": "2023-11-12T00:54:40.946964Z",
     "shell.execute_reply": "2023-11-12T00:54:40.945977Z",
     "shell.execute_reply.started": "2023-11-12T00:54:38.723999Z"
    }
   },
   "outputs": [],
   "source": [
    "sub_answer_lgb.to_csv(\n",
    "    data_folder / 'base' / \"forecast_lgb.csv\", \n",
    "    index=False, sep=\";\", \n",
    "    decimal=\",\", \n",
    "    encoding=\"windows-1251\"\n",
    ")"
   ]
  },
  {
   "cell_type": "code",
   "execution_count": 53,
   "id": "8daab25b-fd85-41e4-b35f-9f24eb876fc7",
   "metadata": {
    "execution": {
     "iopub.execute_input": "2023-11-12T00:54:25.360369Z",
     "iopub.status.busy": "2023-11-12T00:54:25.359944Z",
     "iopub.status.idle": "2023-11-12T00:54:25.382720Z",
     "shell.execute_reply": "2023-11-12T00:54:25.381746Z",
     "shell.execute_reply.started": "2023-11-12T00:54:25.360330Z"
    }
   },
   "outputs": [
    {
     "data": {
      "text/html": [
       "<div>\n",
       "<style scoped>\n",
       "    .dataframe tbody tr th:only-of-type {\n",
       "        vertical-align: middle;\n",
       "    }\n",
       "\n",
       "    .dataframe tbody tr th {\n",
       "        vertical-align: top;\n",
       "    }\n",
       "\n",
       "    .dataframe thead th {\n",
       "        text-align: right;\n",
       "    }\n",
       "</style>\n",
       "<table border=\"1\" class=\"dataframe\">\n",
       "  <thead>\n",
       "    <tr style=\"text-align: right;\">\n",
       "      <th></th>\n",
       "      <th>period</th>\n",
       "      <th>rps</th>\n",
       "      <th>podrod</th>\n",
       "      <th>filial</th>\n",
       "      <th>client_sap_id</th>\n",
       "      <th>freight_id</th>\n",
       "      <th>sender_station_id</th>\n",
       "      <th>recipient_station_id</th>\n",
       "      <th>sender_organisation_id</th>\n",
       "      <th>forecast_weight</th>\n",
       "      <th>forecast_wagon_count</th>\n",
       "    </tr>\n",
       "  </thead>\n",
       "  <tbody>\n",
       "    <tr>\n",
       "      <th>0</th>\n",
       "      <td>2023-04-01</td>\n",
       "      <td>0</td>\n",
       "      <td>1</td>\n",
       "      <td>2</td>\n",
       "      <td>383</td>\n",
       "      <td>1087</td>\n",
       "      <td>26726</td>\n",
       "      <td>33095</td>\n",
       "      <td>27539</td>\n",
       "      <td>0.0</td>\n",
       "      <td>0</td>\n",
       "    </tr>\n",
       "    <tr>\n",
       "      <th>1</th>\n",
       "      <td>2023-05-01</td>\n",
       "      <td>0</td>\n",
       "      <td>1</td>\n",
       "      <td>2</td>\n",
       "      <td>383</td>\n",
       "      <td>1087</td>\n",
       "      <td>26726</td>\n",
       "      <td>33095</td>\n",
       "      <td>27539</td>\n",
       "      <td>60.0</td>\n",
       "      <td>1</td>\n",
       "    </tr>\n",
       "    <tr>\n",
       "      <th>2</th>\n",
       "      <td>2023-06-01</td>\n",
       "      <td>0</td>\n",
       "      <td>1</td>\n",
       "      <td>2</td>\n",
       "      <td>383</td>\n",
       "      <td>1087</td>\n",
       "      <td>26726</td>\n",
       "      <td>33095</td>\n",
       "      <td>27539</td>\n",
       "      <td>60.0</td>\n",
       "      <td>1</td>\n",
       "    </tr>\n",
       "    <tr>\n",
       "      <th>3</th>\n",
       "      <td>2023-07-01</td>\n",
       "      <td>0</td>\n",
       "      <td>1</td>\n",
       "      <td>2</td>\n",
       "      <td>383</td>\n",
       "      <td>1087</td>\n",
       "      <td>26726</td>\n",
       "      <td>33095</td>\n",
       "      <td>27539</td>\n",
       "      <td>60.0</td>\n",
       "      <td>1</td>\n",
       "    </tr>\n",
       "    <tr>\n",
       "      <th>4</th>\n",
       "      <td>2023-08-01</td>\n",
       "      <td>0</td>\n",
       "      <td>1</td>\n",
       "      <td>2</td>\n",
       "      <td>383</td>\n",
       "      <td>1087</td>\n",
       "      <td>26726</td>\n",
       "      <td>33095</td>\n",
       "      <td>27539</td>\n",
       "      <td>60.0</td>\n",
       "      <td>1</td>\n",
       "    </tr>\n",
       "    <tr>\n",
       "      <th>...</th>\n",
       "      <td>...</td>\n",
       "      <td>...</td>\n",
       "      <td>...</td>\n",
       "      <td>...</td>\n",
       "      <td>...</td>\n",
       "      <td>...</td>\n",
       "      <td>...</td>\n",
       "      <td>...</td>\n",
       "      <td>...</td>\n",
       "      <td>...</td>\n",
       "      <td>...</td>\n",
       "    </tr>\n",
       "    <tr>\n",
       "      <th>298970</th>\n",
       "      <td>2023-08-01</td>\n",
       "      <td>1</td>\n",
       "      <td>5</td>\n",
       "      <td>1</td>\n",
       "      <td>431</td>\n",
       "      <td>1649</td>\n",
       "      <td>8812</td>\n",
       "      <td>34400</td>\n",
       "      <td>26775</td>\n",
       "      <td>180.0</td>\n",
       "      <td>3</td>\n",
       "    </tr>\n",
       "    <tr>\n",
       "      <th>298971</th>\n",
       "      <td>2023-08-01</td>\n",
       "      <td>1</td>\n",
       "      <td>5</td>\n",
       "      <td>1</td>\n",
       "      <td>431</td>\n",
       "      <td>4293</td>\n",
       "      <td>11385</td>\n",
       "      <td>34400</td>\n",
       "      <td>28632</td>\n",
       "      <td>360.0</td>\n",
       "      <td>6</td>\n",
       "    </tr>\n",
       "    <tr>\n",
       "      <th>298972</th>\n",
       "      <td>2023-08-01</td>\n",
       "      <td>1</td>\n",
       "      <td>5</td>\n",
       "      <td>1</td>\n",
       "      <td>431</td>\n",
       "      <td>4293</td>\n",
       "      <td>11421</td>\n",
       "      <td>34400</td>\n",
       "      <td>28130</td>\n",
       "      <td>540.0</td>\n",
       "      <td>9</td>\n",
       "    </tr>\n",
       "    <tr>\n",
       "      <th>298973</th>\n",
       "      <td>2023-08-01</td>\n",
       "      <td>1</td>\n",
       "      <td>5</td>\n",
       "      <td>1</td>\n",
       "      <td>431</td>\n",
       "      <td>4293</td>\n",
       "      <td>8893</td>\n",
       "      <td>34400</td>\n",
       "      <td>31153</td>\n",
       "      <td>540.0</td>\n",
       "      <td>9</td>\n",
       "    </tr>\n",
       "    <tr>\n",
       "      <th>298974</th>\n",
       "      <td>2023-08-01</td>\n",
       "      <td>1</td>\n",
       "      <td>5</td>\n",
       "      <td>1</td>\n",
       "      <td>431</td>\n",
       "      <td>4293</td>\n",
       "      <td>8893</td>\n",
       "      <td>34400</td>\n",
       "      <td>34329</td>\n",
       "      <td>540.0</td>\n",
       "      <td>9</td>\n",
       "    </tr>\n",
       "  </tbody>\n",
       "</table>\n",
       "<p>298975 rows × 11 columns</p>\n",
       "</div>"
      ],
      "text/plain": [
       "           period rps podrod filial client_sap_id freight_id  \\\n",
       "0      2023-04-01   0      1      2           383       1087   \n",
       "1      2023-05-01   0      1      2           383       1087   \n",
       "2      2023-06-01   0      1      2           383       1087   \n",
       "3      2023-07-01   0      1      2           383       1087   \n",
       "4      2023-08-01   0      1      2           383       1087   \n",
       "...           ...  ..    ...    ...           ...        ...   \n",
       "298970 2023-08-01   1      5      1           431       1649   \n",
       "298971 2023-08-01   1      5      1           431       4293   \n",
       "298972 2023-08-01   1      5      1           431       4293   \n",
       "298973 2023-08-01   1      5      1           431       4293   \n",
       "298974 2023-08-01   1      5      1           431       4293   \n",
       "\n",
       "       sender_station_id recipient_station_id sender_organisation_id  \\\n",
       "0                  26726                33095                  27539   \n",
       "1                  26726                33095                  27539   \n",
       "2                  26726                33095                  27539   \n",
       "3                  26726                33095                  27539   \n",
       "4                  26726                33095                  27539   \n",
       "...                  ...                  ...                    ...   \n",
       "298970              8812                34400                  26775   \n",
       "298971             11385                34400                  28632   \n",
       "298972             11421                34400                  28130   \n",
       "298973              8893                34400                  31153   \n",
       "298974              8893                34400                  34329   \n",
       "\n",
       "        forecast_weight  forecast_wagon_count  \n",
       "0                   0.0                     0  \n",
       "1                  60.0                     1  \n",
       "2                  60.0                     1  \n",
       "3                  60.0                     1  \n",
       "4                  60.0                     1  \n",
       "...                 ...                   ...  \n",
       "298970            180.0                     3  \n",
       "298971            360.0                     6  \n",
       "298972            540.0                     9  \n",
       "298973            540.0                     9  \n",
       "298974            540.0                     9  \n",
       "\n",
       "[298975 rows x 11 columns]"
      ]
     },
     "execution_count": 53,
     "metadata": {},
     "output_type": "execute_result"
    }
   ],
   "source": [
    "sub_answer_lgb"
   ]
  },
  {
   "cell_type": "code",
   "execution_count": null,
   "id": "fed7865e-27da-450e-a137-777dfba26faf",
   "metadata": {},
   "outputs": [],
   "source": []
  }
 ],
 "metadata": {
  "kernelspec": {
   "display_name": "Python 3 (ipykernel)",
   "language": "python",
   "name": "python3"
  },
  "language_info": {
   "codemirror_mode": {
    "name": "ipython",
    "version": 3
   },
   "file_extension": ".py",
   "mimetype": "text/x-python",
   "name": "python",
   "nbconvert_exporter": "python",
   "pygments_lexer": "ipython3",
   "version": "3.9.2"
  },
  "toc": {
   "base_numbering": 1,
   "nav_menu": {},
   "number_sections": true,
   "sideBar": true,
   "skip_h1_title": false,
   "title_cell": "Table of Contents",
   "title_sidebar": "Contents",
   "toc_cell": false,
   "toc_position": {
    "height": "819px",
    "left": "55px",
    "top": "412.125px",
    "width": "373.188px"
   },
   "toc_section_display": true,
   "toc_window_display": true
  }
 },
 "nbformat": 4,
 "nbformat_minor": 5
}
